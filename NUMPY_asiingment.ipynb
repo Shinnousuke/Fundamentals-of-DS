{
 "cells": [
  {
   "cell_type": "code",
   "execution_count": 1,
   "id": "f279d4df-12d9-4bd5-8393-393fedc82553",
   "metadata": {},
   "outputs": [],
   "source": [
    "import numpy as np"
   ]
  },
  {
   "cell_type": "code",
   "execution_count": 5,
   "id": "b403129f-1f80-4dff-8e21-4d16f7a7f6ac",
   "metadata": {},
   "outputs": [
    {
     "data": {
      "text/plain": [
       "array([0.74542288, 0.61546012, 0.84923537, 0.78371768, 0.89438393,\n",
       "       0.92651471])"
      ]
     },
     "execution_count": 5,
     "metadata": {},
     "output_type": "execute_result"
    }
   ],
   "source": [
    "aar1d=np.random.random(6)\n",
    "aar1d"
   ]
  },
  {
   "cell_type": "code",
   "execution_count": 11,
   "id": "672d385e-7fea-4380-b9d7-24c6b50052d4",
   "metadata": {},
   "outputs": [
    {
     "data": {
      "text/plain": [
       "array([[0.52465949, 0.47678342, 0.86740322, 0.83788101, 0.22644069,\n",
       "        0.45242307],\n",
       "       [0.30351372, 0.5120248 , 0.93257674, 0.93926105, 0.00597393,\n",
       "        0.02466559],\n",
       "       [0.00973027, 0.82123853, 0.7830783 , 0.56841367, 0.4465208 ,\n",
       "        0.78275951],\n",
       "       [0.15396846, 0.42107747, 0.64284655, 0.38833177, 0.7693864 ,\n",
       "        0.90293463],\n",
       "       [0.37475629, 0.51197276, 0.53531147, 0.27129744, 0.04536952,\n",
       "        0.95590762],\n",
       "       [0.76551872, 0.35828777, 0.50619585, 0.32067628, 0.03611516,\n",
       "        0.58202197]])"
      ]
     },
     "execution_count": 11,
     "metadata": {},
     "output_type": "execute_result"
    }
   ],
   "source": [
    "aar2d=np.random.random((6,6))\n",
    "aar2d"
   ]
  },
  {
   "cell_type": "code",
   "execution_count": 29,
   "id": "f42077aa-629c-4412-8790-3cb4b56d482a",
   "metadata": {},
   "outputs": [
    {
     "data": {
      "text/plain": [
       "array([[[0.91415413, 0.09828484],\n",
       "        [0.46988987, 0.82684519],\n",
       "        [0.87569728, 0.43546415]],\n",
       "\n",
       "       [[0.79658023, 0.24106962],\n",
       "        [0.79853431, 0.52626058],\n",
       "        [0.57260418, 0.45805611]],\n",
       "\n",
       "       [[0.48820799, 0.46899163],\n",
       "        [0.32089262, 0.81317285],\n",
       "        [0.4005081 , 0.47097373]]])"
      ]
     },
     "execution_count": 29,
     "metadata": {},
     "output_type": "execute_result"
    }
   ],
   "source": [
    "aar3d=np.random.random((3,3,2))\n",
    "aar3d"
   ]
  },
  {
   "cell_type": "code",
   "execution_count": 31,
   "id": "cf2105b1-80e1-4dc5-992b-34e81cd047da",
   "metadata": {},
   "outputs": [
    {
     "ename": "AttributeError",
     "evalue": "'numpy.ndarray' object has no attribute 'dtaype'",
     "output_type": "error",
     "traceback": [
      "\u001b[1;31m---------------------------------------------------------------------------\u001b[0m",
      "\u001b[1;31mAttributeError\u001b[0m                            Traceback (most recent call last)",
      "Cell \u001b[1;32mIn[31], line 1\u001b[0m\n\u001b[1;32m----> 1\u001b[0m \u001b[43maar2d\u001b[49m\u001b[38;5;241;43m.\u001b[39;49m\u001b[43mdtaype\u001b[49m()\n",
      "\u001b[1;31mAttributeError\u001b[0m: 'numpy.ndarray' object has no attribute 'dtaype'"
     ]
    }
   ],
   "source": [
    "aar2d.dtaype()"
   ]
  },
  {
   "cell_type": "code",
   "execution_count": 35,
   "id": "0226bb0f-06d4-4e05-a654-336da8179de7",
   "metadata": {},
   "outputs": [
    {
     "data": {
      "text/plain": [
       "(6,)"
      ]
     },
     "execution_count": 35,
     "metadata": {},
     "output_type": "execute_result"
    }
   ],
   "source": [
    "aar1d.shape"
   ]
  },
  {
   "cell_type": "code",
   "execution_count": 37,
   "id": "187db846-5ddd-4b85-be26-b6cfd81dfacf",
   "metadata": {},
   "outputs": [
    {
     "data": {
      "text/plain": [
       "6"
      ]
     },
     "execution_count": 37,
     "metadata": {},
     "output_type": "execute_result"
    }
   ],
   "source": [
    "aar1d.size"
   ]
  },
  {
   "cell_type": "code",
   "execution_count": 39,
   "id": "5f2308aa-e9ec-4479-a31a-dc1d8d91116a",
   "metadata": {},
   "outputs": [
    {
     "data": {
      "text/plain": [
       "dtype('float64')"
      ]
     },
     "execution_count": 39,
     "metadata": {},
     "output_type": "execute_result"
    }
   ],
   "source": [
    "aar1d.dtype"
   ]
  },
  {
   "cell_type": "code",
   "execution_count": 41,
   "id": "fadd59bd-19a3-4291-a168-bd1544ec59af",
   "metadata": {},
   "outputs": [
    {
     "data": {
      "text/plain": [
       "1"
      ]
     },
     "execution_count": 41,
     "metadata": {},
     "output_type": "execute_result"
    }
   ],
   "source": [
    "aar1d.ndim"
   ]
  },
  {
   "cell_type": "code",
   "execution_count": 43,
   "id": "0d20afbc-81a8-432c-9985-c0615e90ba71",
   "metadata": {},
   "outputs": [
    {
     "data": {
      "text/plain": [
       "array([[1., 1.],\n",
       "       [1., 1.]])"
      ]
     },
     "execution_count": 43,
     "metadata": {},
     "output_type": "execute_result"
    }
   ],
   "source": [
    "f=np.ones((2,2))\n",
    "f"
   ]
  },
  {
   "cell_type": "code",
   "execution_count": null,
   "id": "1fb5b17d-e13f-4182-b387-3ce8790e274a",
   "metadata": {},
   "outputs": [],
   "source": [
    "g=np.random.seed(10)\n",
    "math="
   ]
  }
 ],
 "metadata": {
  "kernelspec": {
   "display_name": "Python 3 (ipykernel)",
   "language": "python",
   "name": "python3"
  },
  "language_info": {
   "codemirror_mode": {
    "name": "ipython",
    "version": 3
   },
   "file_extension": ".py",
   "mimetype": "text/x-python",
   "name": "python",
   "nbconvert_exporter": "python",
   "pygments_lexer": "ipython3",
   "version": "3.12.4"
  }
 },
 "nbformat": 4,
 "nbformat_minor": 5
}
