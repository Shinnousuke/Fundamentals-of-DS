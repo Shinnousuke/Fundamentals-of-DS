{
 "cells": [
  {
   "cell_type": "code",
   "execution_count": 1,
   "id": "2d16ff2a-c855-442b-8625-a9fe8ed64a82",
   "metadata": {},
   "outputs": [],
   "source": [
    "import numpy as np"
   ]
  },
  {
   "cell_type": "code",
   "execution_count": 3,
   "id": "45de3920-3c2a-4cc3-abbe-d330da3a5439",
   "metadata": {},
   "outputs": [],
   "source": [
    "ar1=np.zeros(10)"
   ]
  },
  {
   "cell_type": "code",
   "execution_count": 5,
   "id": "cd70449d-22ee-4e8c-9a92-130c98092be5",
   "metadata": {},
   "outputs": [
    {
     "data": {
      "text/plain": [
       "array([0., 0., 0., 0., 0., 0., 0., 0., 0., 0.])"
      ]
     },
     "execution_count": 5,
     "metadata": {},
     "output_type": "execute_result"
    }
   ],
   "source": [
    "ar1"
   ]
  },
  {
   "cell_type": "code",
   "execution_count": 7,
   "id": "94879f77-900e-452b-9b3f-b7a00bac0b7c",
   "metadata": {},
   "outputs": [],
   "source": [
    "ar2=np.ones(10)"
   ]
  },
  {
   "cell_type": "code",
   "execution_count": 9,
   "id": "8b274acb-c91b-42ad-818a-a1d2814ba5e8",
   "metadata": {},
   "outputs": [
    {
     "data": {
      "text/plain": [
       "array([1., 1., 1., 1., 1., 1., 1., 1., 1., 1.])"
      ]
     },
     "execution_count": 9,
     "metadata": {},
     "output_type": "execute_result"
    }
   ],
   "source": [
    "ar2"
   ]
  },
  {
   "cell_type": "code",
   "execution_count": 15,
   "id": "2edea775-d278-42f5-8f11-f3f046d9d289",
   "metadata": {},
   "outputs": [],
   "source": [
    "ar=np.arange(10,50)"
   ]
  },
  {
   "cell_type": "code",
   "execution_count": 17,
   "id": "8c8e30f3-c539-4d1e-b705-6d9644c51419",
   "metadata": {},
   "outputs": [
    {
     "data": {
      "text/plain": [
       "array([10, 11, 12, 13, 14, 15, 16, 17, 18, 19, 20, 21, 22, 23, 24, 25, 26,\n",
       "       27, 28, 29, 30, 31, 32, 33, 34, 35, 36, 37, 38, 39, 40, 41, 42, 43,\n",
       "       44, 45, 46, 47, 48, 49])"
      ]
     },
     "execution_count": 17,
     "metadata": {},
     "output_type": "execute_result"
    }
   ],
   "source": [
    "ar\n"
   ]
  },
  {
   "cell_type": "code",
   "execution_count": 19,
   "id": "dd642f15-0774-4fa7-8c4f-c927f1e4d51d",
   "metadata": {},
   "outputs": [],
   "source": [
    "ar_even=np.arange(10,50,2)"
   ]
  },
  {
   "cell_type": "code",
   "execution_count": 21,
   "id": "62c4eb4b-a5d2-45fa-b60c-fa673ff9cf3f",
   "metadata": {},
   "outputs": [
    {
     "data": {
      "text/plain": [
       "array([10, 12, 14, 16, 18, 20, 22, 24, 26, 28, 30, 32, 34, 36, 38, 40, 42,\n",
       "       44, 46, 48])"
      ]
     },
     "execution_count": 21,
     "metadata": {},
     "output_type": "execute_result"
    }
   ],
   "source": [
    "ar_even"
   ]
  },
  {
   "cell_type": "code",
   "execution_count": 25,
   "id": "5acf7465-5f47-489c-bc8b-4187b7857ac1",
   "metadata": {},
   "outputs": [],
   "source": [
    "matrix=np.arange(0,9).reshape(3,3)"
   ]
  },
  {
   "cell_type": "code",
   "execution_count": 29,
   "id": "9c179f67-d773-4b32-abe7-6ae01d23f92c",
   "metadata": {},
   "outputs": [
    {
     "data": {
      "text/plain": [
       "array([[0, 1, 2],\n",
       "       [3, 4, 5],\n",
       "       [6, 7, 8]])"
      ]
     },
     "execution_count": 29,
     "metadata": {},
     "output_type": "execute_result"
    }
   ],
   "source": [
    "matrix"
   ]
  },
  {
   "cell_type": "code",
   "execution_count": 31,
   "id": "b675f04e-9a43-4955-ae47-1ef9a5b69711",
   "metadata": {},
   "outputs": [],
   "source": [
    "identity_mat=np.eye(3)"
   ]
  },
  {
   "cell_type": "code",
   "execution_count": 33,
   "id": "27e305ba-f0ef-4b8f-baa3-e84a35e4398b",
   "metadata": {},
   "outputs": [
    {
     "data": {
      "text/plain": [
       "array([[1., 0., 0.],\n",
       "       [0., 1., 0.],\n",
       "       [0., 0., 1.]])"
      ]
     },
     "execution_count": 33,
     "metadata": {},
     "output_type": "execute_result"
    }
   ],
   "source": [
    "identity_mat"
   ]
  },
  {
   "cell_type": "code",
   "execution_count": 47,
   "id": "f175b42f-ad7a-4e23-b4f3-d78e1a4b24aa",
   "metadata": {},
   "outputs": [],
   "source": [
    "num=np.random.random()"
   ]
  },
  {
   "cell_type": "code",
   "execution_count": 49,
   "id": "2d9022aa-e762-4743-8f64-8fbf6b2fc525",
   "metadata": {},
   "outputs": [
    {
     "name": "stdout",
     "output_type": "stream",
     "text": [
      "0.7357252290260746\n"
     ]
    }
   ],
   "source": [
    "print(num)"
   ]
  },
  {
   "cell_type": "code",
   "execution_count": 51,
   "id": "3e39c9a5-0090-406d-a54c-e6f43d1f0570",
   "metadata": {},
   "outputs": [],
   "source": [
    "num_std_nor=np.random.random(25)\n"
   ]
  },
  {
   "cell_type": "code",
   "execution_count": 53,
   "id": "1062714e-c113-4218-9f65-1ac2fe6c471b",
   "metadata": {},
   "outputs": [
    {
     "data": {
      "text/plain": [
       "array([0.06247809, 0.8951379 , 0.58393807, 0.26030803, 0.57081687,\n",
       "       0.76473334, 0.8954709 , 0.74942771, 0.3957154 , 0.8580052 ,\n",
       "       0.82573595, 0.3257091 , 0.00174693, 0.27945939, 0.37505447,\n",
       "       0.92341951, 0.16996024, 0.41698808, 0.31245796, 0.58026839,\n",
       "       0.69717948, 0.88305745, 0.27492195, 0.83722452, 0.67097973])"
      ]
     },
     "execution_count": 53,
     "metadata": {},
     "output_type": "execute_result"
    }
   ],
   "source": [
    "num_std_nor"
   ]
  },
  {
   "cell_type": "code",
   "execution_count": 73,
   "id": "2c248b98-1906-461f-9acb-543196f6dc34",
   "metadata": {},
   "outputs": [],
   "source": [
    "elemnets=np.linspace(0.01,1,100)"
   ]
  },
  {
   "cell_type": "code",
   "execution_count": 75,
   "id": "4cdc985d-e863-47e1-a8d6-9be3acc6e872",
   "metadata": {},
   "outputs": [
    {
     "data": {
      "text/plain": [
       "array([0.01, 0.02, 0.03, 0.04, 0.05, 0.06, 0.07, 0.08, 0.09, 0.1 , 0.11,\n",
       "       0.12, 0.13, 0.14, 0.15, 0.16, 0.17, 0.18, 0.19, 0.2 , 0.21, 0.22,\n",
       "       0.23, 0.24, 0.25, 0.26, 0.27, 0.28, 0.29, 0.3 , 0.31, 0.32, 0.33,\n",
       "       0.34, 0.35, 0.36, 0.37, 0.38, 0.39, 0.4 , 0.41, 0.42, 0.43, 0.44,\n",
       "       0.45, 0.46, 0.47, 0.48, 0.49, 0.5 , 0.51, 0.52, 0.53, 0.54, 0.55,\n",
       "       0.56, 0.57, 0.58, 0.59, 0.6 , 0.61, 0.62, 0.63, 0.64, 0.65, 0.66,\n",
       "       0.67, 0.68, 0.69, 0.7 , 0.71, 0.72, 0.73, 0.74, 0.75, 0.76, 0.77,\n",
       "       0.78, 0.79, 0.8 , 0.81, 0.82, 0.83, 0.84, 0.85, 0.86, 0.87, 0.88,\n",
       "       0.89, 0.9 , 0.91, 0.92, 0.93, 0.94, 0.95, 0.96, 0.97, 0.98, 0.99,\n",
       "       1.  ])"
      ]
     },
     "execution_count": 75,
     "metadata": {},
     "output_type": "execute_result"
    }
   ],
   "source": [
    "elemnets"
   ]
  },
  {
   "cell_type": "code",
   "execution_count": 77,
   "id": "23b3e5ee-123f-49bc-ac36-ead184460497",
   "metadata": {},
   "outputs": [],
   "source": [
    "matrix_new=elemnets.reshape((10,10))"
   ]
  },
  {
   "cell_type": "code",
   "execution_count": 79,
   "id": "3de459a8-b54c-42ef-a840-1f4df203dda1",
   "metadata": {},
   "outputs": [
    {
     "data": {
      "text/plain": [
       "array([[0.01, 0.02, 0.03, 0.04, 0.05, 0.06, 0.07, 0.08, 0.09, 0.1 ],\n",
       "       [0.11, 0.12, 0.13, 0.14, 0.15, 0.16, 0.17, 0.18, 0.19, 0.2 ],\n",
       "       [0.21, 0.22, 0.23, 0.24, 0.25, 0.26, 0.27, 0.28, 0.29, 0.3 ],\n",
       "       [0.31, 0.32, 0.33, 0.34, 0.35, 0.36, 0.37, 0.38, 0.39, 0.4 ],\n",
       "       [0.41, 0.42, 0.43, 0.44, 0.45, 0.46, 0.47, 0.48, 0.49, 0.5 ],\n",
       "       [0.51, 0.52, 0.53, 0.54, 0.55, 0.56, 0.57, 0.58, 0.59, 0.6 ],\n",
       "       [0.61, 0.62, 0.63, 0.64, 0.65, 0.66, 0.67, 0.68, 0.69, 0.7 ],\n",
       "       [0.71, 0.72, 0.73, 0.74, 0.75, 0.76, 0.77, 0.78, 0.79, 0.8 ],\n",
       "       [0.81, 0.82, 0.83, 0.84, 0.85, 0.86, 0.87, 0.88, 0.89, 0.9 ],\n",
       "       [0.91, 0.92, 0.93, 0.94, 0.95, 0.96, 0.97, 0.98, 0.99, 1.  ]])"
      ]
     },
     "execution_count": 79,
     "metadata": {},
     "output_type": "execute_result"
    }
   ],
   "source": [
    "matrix_new"
   ]
  },
  {
   "cell_type": "code",
   "execution_count": 81,
   "id": "f1062e93-72c8-4c8d-bca2-13f6d9b25751",
   "metadata": {},
   "outputs": [],
   "source": [
    "lin_20=np.linspace(0,1,20)"
   ]
  },
  {
   "cell_type": "code",
   "execution_count": 83,
   "id": "7f926a0a-e5d9-46a8-9717-584d2d87441e",
   "metadata": {},
   "outputs": [
    {
     "data": {
      "text/plain": [
       "array([0.        , 0.05263158, 0.10526316, 0.15789474, 0.21052632,\n",
       "       0.26315789, 0.31578947, 0.36842105, 0.42105263, 0.47368421,\n",
       "       0.52631579, 0.57894737, 0.63157895, 0.68421053, 0.73684211,\n",
       "       0.78947368, 0.84210526, 0.89473684, 0.94736842, 1.        ])"
      ]
     },
     "execution_count": 83,
     "metadata": {},
     "output_type": "execute_result"
    }
   ],
   "source": [
    "lin_20"
   ]
  },
  {
   "cell_type": "code",
   "execution_count": 85,
   "id": "17239d12-a30b-4ad3-b09e-e30a8cf17108",
   "metadata": {},
   "outputs": [],
   "source": [
    "matrix_20=lin_20.reshape((4,5))"
   ]
  },
  {
   "cell_type": "code",
   "execution_count": 87,
   "id": "174fd946-491b-4396-a841-126f0d32b8a4",
   "metadata": {},
   "outputs": [
    {
     "data": {
      "text/plain": [
       "array([[0.        , 0.05263158, 0.10526316, 0.15789474, 0.21052632],\n",
       "       [0.26315789, 0.31578947, 0.36842105, 0.42105263, 0.47368421],\n",
       "       [0.52631579, 0.57894737, 0.63157895, 0.68421053, 0.73684211],\n",
       "       [0.78947368, 0.84210526, 0.89473684, 0.94736842, 1.        ]])"
      ]
     },
     "execution_count": 87,
     "metadata": {},
     "output_type": "execute_result"
    }
   ],
   "source": [
    "matrix_20"
   ]
  },
  {
   "cell_type": "code",
   "execution_count": 95,
   "id": "df558e9b-835a-4f63-a339-ef516e8bd353",
   "metadata": {},
   "outputs": [],
   "source": [
    "readymade=np.arange(1,26).reshape(5,5)"
   ]
  },
  {
   "cell_type": "code",
   "execution_count": 97,
   "id": "1b0df75c-adee-494c-bb62-9e8ff396c4f6",
   "metadata": {},
   "outputs": [
    {
     "data": {
      "text/plain": [
       "array([[ 1,  2,  3,  4,  5],\n",
       "       [ 6,  7,  8,  9, 10],\n",
       "       [11, 12, 13, 14, 15],\n",
       "       [16, 17, 18, 19, 20],\n",
       "       [21, 22, 23, 24, 25]])"
      ]
     },
     "execution_count": 97,
     "metadata": {},
     "output_type": "execute_result"
    }
   ],
   "source": [
    "readymade"
   ]
  },
  {
   "cell_type": "code",
   "execution_count": 99,
   "id": "071a72be-341c-4f8e-a770-4538b4f9d880",
   "metadata": {},
   "outputs": [
    {
     "data": {
      "text/plain": [
       "array([[12, 13, 14, 15],\n",
       "       [17, 18, 19, 20],\n",
       "       [22, 23, 24, 25]])"
      ]
     },
     "execution_count": 99,
     "metadata": {},
     "output_type": "execute_result"
    }
   ],
   "source": [
    "readymade[2:,1:]"
   ]
  },
  {
   "cell_type": "code",
   "execution_count": 105,
   "id": "b771bbf2-d1c4-49f6-a2e3-d3c446623d24",
   "metadata": {},
   "outputs": [
    {
     "data": {
      "text/plain": [
       "20"
      ]
     },
     "execution_count": 105,
     "metadata": {},
     "output_type": "execute_result"
    }
   ],
   "source": [
    "readymade[3,4]"
   ]
  },
  {
   "cell_type": "code",
   "execution_count": 119,
   "id": "ac992a7d-6fd7-41f7-815b-a1bb27c46932",
   "metadata": {},
   "outputs": [
    {
     "data": {
      "text/plain": [
       "array([[ 2],\n",
       "       [ 7],\n",
       "       [12]])"
      ]
     },
     "execution_count": 119,
     "metadata": {},
     "output_type": "execute_result"
    }
   ],
   "source": [
    "readymade[0:3,1:2]"
   ]
  },
  {
   "cell_type": "code",
   "execution_count": 121,
   "id": "09b045d2-649e-44b8-9697-7624ac657b1d",
   "metadata": {},
   "outputs": [
    {
     "data": {
      "text/plain": [
       "array([[21, 22, 23, 24, 25]])"
      ]
     },
     "execution_count": 121,
     "metadata": {},
     "output_type": "execute_result"
    }
   ],
   "source": [
    "readymade[4:,:]"
   ]
  },
  {
   "cell_type": "code",
   "execution_count": 123,
   "id": "85da48f0-e7e9-4e38-9132-e9345073eaf4",
   "metadata": {},
   "outputs": [
    {
     "data": {
      "text/plain": [
       "array([[16, 17, 18, 19, 20],\n",
       "       [21, 22, 23, 24, 25]])"
      ]
     },
     "execution_count": 123,
     "metadata": {},
     "output_type": "execute_result"
    }
   ],
   "source": [
    "readymade[3:,:]"
   ]
  },
  {
   "cell_type": "code",
   "execution_count": 125,
   "id": "7dd8b2d5-6ee1-4ff5-b423-cc96d617563f",
   "metadata": {},
   "outputs": [
    {
     "data": {
      "text/plain": [
       "325"
      ]
     },
     "execution_count": 125,
     "metadata": {},
     "output_type": "execute_result"
    }
   ],
   "source": [
    "np.sum(readymade)"
   ]
  },
  {
   "cell_type": "code",
   "execution_count": 127,
   "id": "edbe9e08-4d5d-40cc-84ce-48589ab6f63e",
   "metadata": {},
   "outputs": [
    {
     "data": {
      "text/plain": [
       "array([55, 60, 65, 70, 75])"
      ]
     },
     "execution_count": 127,
     "metadata": {},
     "output_type": "execute_result"
    }
   ],
   "source": [
    "np.sum(readymade,axis=0)"
   ]
  },
  {
   "cell_type": "code",
   "execution_count": 129,
   "id": "0ab28908-f49f-4493-95ae-bfd17cd8f6f1",
   "metadata": {},
   "outputs": [
    {
     "data": {
      "text/plain": [
       "array([ 15,  40,  65,  90, 115])"
      ]
     },
     "execution_count": 129,
     "metadata": {},
     "output_type": "execute_result"
    }
   ],
   "source": [
    "np.sum(readymade,axis=1)"
   ]
  },
  {
   "cell_type": "code",
   "execution_count": 131,
   "id": "04298613-bd88-43cb-a4ed-c46404acf014",
   "metadata": {},
   "outputs": [
    {
     "data": {
      "text/plain": [
       "array([1.41421356, 1.41421356, 1.41421356, 1.41421356, 1.41421356])"
      ]
     },
     "execution_count": 131,
     "metadata": {},
     "output_type": "execute_result"
    }
   ],
   "source": [
    "np.std(readymade,axis=1)"
   ]
  },
  {
   "cell_type": "code",
   "execution_count": 133,
   "id": "7a661f3a-2236-4ef2-ad4a-87f05d17b68a",
   "metadata": {},
   "outputs": [
    {
     "data": {
      "text/plain": [
       "array([2., 2., 2., 2., 2.])"
      ]
     },
     "execution_count": 133,
     "metadata": {},
     "output_type": "execute_result"
    }
   ],
   "source": [
    "np.var(readymade,axis=1)"
   ]
  },
  {
   "cell_type": "code",
   "execution_count": 135,
   "id": "416584ef-ebec-4f63-8020-e44792f3c89b",
   "metadata": {},
   "outputs": [
    {
     "data": {
      "text/plain": [
       "array([ 1,  6, 11, 16, 21])"
      ]
     },
     "execution_count": 135,
     "metadata": {},
     "output_type": "execute_result"
    }
   ],
   "source": [
    "np.min(readymade,axis=1)"
   ]
  },
  {
   "cell_type": "code",
   "execution_count": 137,
   "id": "b6b0ffbb-8407-4ff1-95dd-282e1f3b2c31",
   "metadata": {},
   "outputs": [
    {
     "data": {
      "text/plain": [
       "array([ 5, 10, 15, 20, 25])"
      ]
     },
     "execution_count": 137,
     "metadata": {},
     "output_type": "execute_result"
    }
   ],
   "source": [
    "np.max(readymade,axis=1)"
   ]
  },
  {
   "cell_type": "code",
   "execution_count": 139,
   "id": "a582fc83-1bb7-4a1f-afdc-bf3e2bbbbd46",
   "metadata": {},
   "outputs": [],
   "source": [
    "nan_matrix= np.full((5,5), np.nan)"
   ]
  },
  {
   "cell_type": "code",
   "execution_count": 141,
   "id": "a1872aa7-48c1-4c75-996b-7f18561b857a",
   "metadata": {},
   "outputs": [
    {
     "data": {
      "text/plain": [
       "array([[nan, nan, nan, nan, nan],\n",
       "       [nan, nan, nan, nan, nan],\n",
       "       [nan, nan, nan, nan, nan],\n",
       "       [nan, nan, nan, nan, nan],\n",
       "       [nan, nan, nan, nan, nan]])"
      ]
     },
     "execution_count": 141,
     "metadata": {},
     "output_type": "execute_result"
    }
   ],
   "source": [
    "nan_matrix"
   ]
  },
  {
   "cell_type": "code",
   "execution_count": 143,
   "id": "15273078-3928-4170-bc35-1ba8ce4298b3",
   "metadata": {},
   "outputs": [],
   "source": [
    "nan_matrix[1:4,1:4]=0"
   ]
  },
  {
   "cell_type": "code",
   "execution_count": 145,
   "id": "6e554bd8-e199-4877-96ea-f4cd9e9725eb",
   "metadata": {},
   "outputs": [
    {
     "data": {
      "text/plain": [
       "array([[nan, nan, nan, nan, nan],\n",
       "       [nan,  0.,  0.,  0., nan],\n",
       "       [nan,  0.,  0.,  0., nan],\n",
       "       [nan,  0.,  0.,  0., nan],\n",
       "       [nan, nan, nan, nan, nan]])"
      ]
     },
     "execution_count": 145,
     "metadata": {},
     "output_type": "execute_result"
    }
   ],
   "source": [
    "nan_matrix"
   ]
  },
  {
   "cell_type": "code",
   "execution_count": null,
   "id": "0065ad11-3eef-41de-a09f-cd982aa125e8",
   "metadata": {},
   "outputs": [],
   "source": []
  }
 ],
 "metadata": {
  "kernelspec": {
   "display_name": "Python 3 (ipykernel)",
   "language": "python",
   "name": "python3"
  },
  "language_info": {
   "codemirror_mode": {
    "name": "ipython",
    "version": 3
   },
   "file_extension": ".py",
   "mimetype": "text/x-python",
   "name": "python",
   "nbconvert_exporter": "python",
   "pygments_lexer": "ipython3",
   "version": "3.12.4"
  }
 },
 "nbformat": 4,
 "nbformat_minor": 5
}
