{
 "cells": [
  {
   "cell_type": "code",
   "execution_count": 1,
   "id": "bb13807a-66ec-4bf4-abb0-b28845b0241c",
   "metadata": {},
   "outputs": [
    {
     "data": {
      "text/plain": [
       "2401"
      ]
     },
     "execution_count": 1,
     "metadata": {},
     "output_type": "execute_result"
    }
   ],
   "source": [
    "7 **4"
   ]
  },
  {
   "cell_type": "code",
   "execution_count": null,
   "id": "ac207985-e6e4-4855-9065-dd64cd927785",
   "metadata": {},
   "outputs": [],
   "source": []
  },
  {
   "cell_type": "code",
   "execution_count": 3,
   "id": "0e56a0c5-53f1-4b24-b932-b3327d9cac39",
   "metadata": {},
   "outputs": [
    {
     "data": {
      "text/plain": [
       "['Hi', 'there', 'Sam!']"
      ]
     },
     "execution_count": 3,
     "metadata": {},
     "output_type": "execute_result"
    }
   ],
   "source": [
    "s = \"Hi there Sam!\"\n",
    "s.split()"
   ]
  },
  {
   "cell_type": "code",
   "execution_count": 5,
   "id": "e6c15cbe-ffd2-4904-b7a8-35d30fc4fd27",
   "metadata": {},
   "outputs": [
    {
     "name": "stdout",
     "output_type": "stream",
     "text": [
      "The diameter of Earth is 12742 kilometers.\n"
     ]
    }
   ],
   "source": [
    "planet = \"Earth\" \n",
    "diameter = 12742\n",
    "\n",
    "print(\"The diameter of {} is {} kilometers.\".format(planet,diameter))"
   ]
  },
  {
   "cell_type": "code",
   "execution_count": 7,
   "id": "2bc14f53-66a6-400b-a431-9c8192c9bbb1",
   "metadata": {},
   "outputs": [
    {
     "data": {
      "text/plain": [
       "'hello'"
      ]
     },
     "execution_count": 7,
     "metadata": {},
     "output_type": "execute_result"
    }
   ],
   "source": [
    "lst = [1,2,[3,4],[5,[100,200,['hello']],23,11],1,7]\n",
    "lst[3][1][2][0]\n"
   ]
  },
  {
   "cell_type": "code",
   "execution_count": 9,
   "id": "51ee448a-14b1-49fd-95e0-aea6d6252769",
   "metadata": {},
   "outputs": [
    {
     "data": {
      "text/plain": [
       "'hello'"
      ]
     },
     "execution_count": 9,
     "metadata": {},
     "output_type": "execute_result"
    }
   ],
   "source": [
    "d = {'k1':[1,2,3,{'tricky':['oh','man','inception',{'target':[1,2,3,'hello']}]}]}\n",
    "d['k1'][3]['tricky'][3]['target'][3]\n"
   ]
  },
  {
   "cell_type": "code",
   "execution_count": 11,
   "id": "b49df0f6-7fa6-4cba-99f6-ef909d6d0c60",
   "metadata": {},
   "outputs": [
    {
     "data": {
      "text/plain": [
       "'domain.com'"
      ]
     },
     "execution_count": 11,
     "metadata": {},
     "output_type": "execute_result"
    }
   ],
   "source": [
    "def domainGet(email):\n",
    "    return email.split('@')[-1]\n",
    "domainGet('user@domain.com')"
   ]
  },
  {
   "cell_type": "code",
   "execution_count": 13,
   "id": "3acdf581-7c09-4dfa-a8c6-fec60a9397f5",
   "metadata": {},
   "outputs": [
    {
     "data": {
      "text/plain": [
       "True"
      ]
     },
     "execution_count": 13,
     "metadata": {},
     "output_type": "execute_result"
    }
   ],
   "source": [
    "def findDog(st):\n",
    "    return 'dog' in st.lower().split()\n",
    "findDog('Is there a dog here?')"
   ]
  },
  {
   "cell_type": "code",
   "execution_count": 15,
   "id": "633d834a-3cbb-4e03-be87-83bec21e200e",
   "metadata": {},
   "outputs": [
    {
     "data": {
      "text/plain": [
       "2"
      ]
     },
     "execution_count": 15,
     "metadata": {},
     "output_type": "execute_result"
    }
   ],
   "source": [
    "def countDog(st):\n",
    "    count = 0\n",
    "    for word in st.lower().split():\n",
    "        if word == 'dog':\n",
    "            count += 1\n",
    "    return count\n",
    "countDog('This dog runs faster than the other dog dude!')"
   ]
  },
  {
   "cell_type": "code",
   "execution_count": 9,
   "id": "8c8a3835-9f75-4db3-8e93-f55a843c6a49",
   "metadata": {},
   "outputs": [
    {
     "name": "stdout",
     "output_type": "stream",
     "text": [
      "['soup']\n",
      "['soup', 'salad']\n"
     ]
    }
   ],
   "source": [
    "seq = ['soup','dog','salad','cat','great']\n",
    "lst=[]\n",
    "for word in seq:\n",
    "    if word[0]=='s':\n",
    "        lst.append(word)\n",
    "        print(lst)"
   ]
  },
  {
   "cell_type": "code",
   "execution_count": 1,
   "id": "9de66314-a08d-4a59-8556-d895087ac142",
   "metadata": {},
   "outputs": [
    {
     "name": "stdin",
     "output_type": "stream",
     "text": [
      "Enter ur current speed : 62\n"
     ]
    },
    {
     "name": "stdout",
     "output_type": "stream",
     "text": [
      "CHOTA TICKETT\n"
     ]
    }
   ],
   "source": [
    "speed=int(input(\"Enter ur current speed :\"))\n",
    "\n",
    "def speed_check (speed):\n",
    "    if speed >81:\n",
    "        print(\"BADA TICKETT\")\n",
    "    elif speed <80 or speed >61:\n",
    "        print(\"CHOTA TICKETT\")\n",
    "    else:\n",
    "        print(\"NO TICKETT\")\n",
    "\n",
    "speed_check(speed)\n",
    "    "
   ]
  },
  {
   "cell_type": "code",
   "execution_count": 1,
   "id": "9c19928c-096c-43b4-a1e6-5830f2717fe5",
   "metadata": {},
   "outputs": [
    {
     "name": "stdin",
     "output_type": "stream",
     "text": [
      "Enter Roll No:  5\n",
      "Enter Student Name:  raghav\n",
      "Enter Marks in Physics (out of 100):  88\n",
      "Enter Marks in Chemistry (out of 100):  90\n",
      "Enter Marks in Maths (out of 100):  99\n"
     ]
    },
    {
     "ename": "TypeError",
     "evalue": "calculate_grade() takes 0 positional arguments but 1 was given",
     "output_type": "error",
     "traceback": [
      "\u001b[1;31m---------------------------------------------------------------------------\u001b[0m",
      "\u001b[1;31mTypeError\u001b[0m                                 Traceback (most recent call last)",
      "Cell \u001b[1;32mIn[1], line 49\u001b[0m\n\u001b[0;32m     46\u001b[0m     \u001b[38;5;28mprint\u001b[39m(\u001b[38;5;124m\"\u001b[39m\u001b[38;5;124mInvalid input:\u001b[39m\u001b[38;5;124m\"\u001b[39m, e)\n\u001b[0;32m     48\u001b[0m \u001b[38;5;28;01mif\u001b[39;00m \u001b[38;5;18m__name__\u001b[39m \u001b[38;5;241m==\u001b[39m \u001b[38;5;124m\"\u001b[39m\u001b[38;5;124m__main__\u001b[39m\u001b[38;5;124m\"\u001b[39m:\n\u001b[1;32m---> 49\u001b[0m   main()\n",
      "Cell \u001b[1;32mIn[1], line 31\u001b[0m, in \u001b[0;36mmain\u001b[1;34m()\u001b[0m\n\u001b[0;32m     28\u001b[0m percentage \u001b[38;5;241m=\u001b[39m total_marks \u001b[38;5;241m/\u001b[39m \u001b[38;5;241m300\u001b[39m \u001b[38;5;241m*\u001b[39m \u001b[38;5;241m100\u001b[39m\n\u001b[0;32m     30\u001b[0m status \u001b[38;5;241m=\u001b[39m \u001b[38;5;124m\"\u001b[39m\u001b[38;5;124mPASS\u001b[39m\u001b[38;5;124m\"\u001b[39m \u001b[38;5;28;01mif\u001b[39;00m physics_marks \u001b[38;5;241m>\u001b[39m\u001b[38;5;241m=\u001b[39m \u001b[38;5;241m40\u001b[39m \u001b[38;5;129;01mand\u001b[39;00m chemistry_marks \u001b[38;5;241m>\u001b[39m\u001b[38;5;241m=\u001b[39m \u001b[38;5;241m40\u001b[39m \u001b[38;5;129;01mand\u001b[39;00m maths_marks \u001b[38;5;241m>\u001b[39m\u001b[38;5;241m=\u001b[39m \u001b[38;5;241m40\u001b[39m \u001b[38;5;28;01melse\u001b[39;00m \u001b[38;5;124m\"\u001b[39m\u001b[38;5;124mFAIL\u001b[39m\u001b[38;5;124m\"\u001b[39m\n\u001b[1;32m---> 31\u001b[0m grade \u001b[38;5;241m=\u001b[39m calculate_grade(percentage)\n\u001b[0;32m     33\u001b[0m \u001b[38;5;28mprint\u001b[39m(\u001b[38;5;124m\"\u001b[39m\u001b[38;5;130;01m\\n\u001b[39;00m\u001b[38;5;124mStudent Details:\u001b[39m\u001b[38;5;124m\"\u001b[39m)\n\u001b[0;32m     34\u001b[0m \u001b[38;5;28mprint\u001b[39m(\u001b[38;5;124mf\u001b[39m\u001b[38;5;124m\"\u001b[39m\u001b[38;5;124mRoll No: \u001b[39m\u001b[38;5;132;01m{\u001b[39;00mroll_no\u001b[38;5;132;01m}\u001b[39;00m\u001b[38;5;124m\"\u001b[39m)\n",
      "\u001b[1;31mTypeError\u001b[0m: calculate_grade() takes 0 positional arguments but 1 was given"
     ]
    }
   ],
   "source": [
    "def calculate_grade():\n",
    "\n",
    "  if percentage >= 70:\n",
    "    return \"DISTINCTION\"\n",
    "  elif percentage >= 60:\n",
    "    return \"FIRST CLASS\"\n",
    "  elif percentage >= 50:\n",
    "    return \"SECOND CLASS\"\n",
    "  elif percentage >= 40:\n",
    "    return \"PASS CLASS\"\n",
    "  else:\n",
    "    return \"FAIL\"\n",
    "\n",
    "def main():\n",
    "  roll_no = int(input(\"Enter Roll No: \"))\n",
    "  student_name = input(\"Enter Student Name: \")\n",
    "\n",
    "  try:\n",
    "    physics_marks = int(input(\"Enter Marks in Physics (out of 100): \"))\n",
    "    chemistry_marks = int(input(\"Enter Marks in Chemistry (out of 100): \"))\n",
    "    maths_marks = int(input(\"Enter Marks in Maths (out of 100): \"))\n",
    "\n",
    "    # Validate marks (0-100)\n",
    "    if not (0 <= physics_marks <= 100 and 0 <= chemistry_marks <= 100 and 0 <= maths_marks <= 100):\n",
    "      raise ValueError(\"Marks must be between 0 and 100.\")\n",
    "\n",
    "    total_marks = physics_marks + chemistry_marks + maths_marks\n",
    "    percentage = total_marks / 300 * 100\n",
    "\n",
    "    status = \"PASS\" if physics_marks >= 40 and chemistry_marks >= 40 and maths_marks >= 40 else \"FAIL\"\n",
    "    grade = calculate_grade(percentage)\n",
    "\n",
    "    print(\"\\nStudent Details:\")\n",
    "    print(f\"Roll No: {roll_no}\")\n",
    "    print(f\"Student Name: {student_name}\")\n",
    "    print(\"\\nMarks:\")\n",
    "    print(f\"Physics: {physics_marks}\")\n",
    "    print(f\"Chemistry: {chemistry_marks}\")\n",
    "    print(f\"Maths: {maths_marks}\")\n",
    "    print(f\"\\nTotal Marks: {total_marks}\")\n",
    "    print(f\"Percentage: {percentage:.2f}%\")\n",
    "    print(f\"Status: {status}\")\n",
    "    print(f\"Grade: {grade}\")\n",
    "\n",
    "  except ValueError as e:\n",
    "    print(\"Invalid input:\", e)\n",
    "\n",
    "if __name__ == \"__main__\":\n",
    "  main()\n",
    "\n"
   ]
  },
  {
   "cell_type": "code",
   "execution_count": null,
   "id": "3e5c3d35-4e88-4ff5-b14d-d27a09921017",
   "metadata": {},
   "outputs": [],
   "source": []
  }
 ],
 "metadata": {
  "kernelspec": {
   "display_name": "Python 3 (ipykernel)",
   "language": "python",
   "name": "python3"
  },
  "language_info": {
   "codemirror_mode": {
    "name": "ipython",
    "version": 3
   },
   "file_extension": ".py",
   "mimetype": "text/x-python",
   "name": "python",
   "nbconvert_exporter": "python",
   "pygments_lexer": "ipython3",
   "version": "3.12.4"
  }
 },
 "nbformat": 4,
 "nbformat_minor": 5
}
