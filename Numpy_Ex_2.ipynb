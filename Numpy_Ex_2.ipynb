{
 "cells": [
  {
   "cell_type": "code",
   "execution_count": 3,
   "id": "d96c6bc5-7d70-40ad-b5a2-caee98c474a5",
   "metadata": {},
   "outputs": [],
   "source": [
    "import numpy as np"
   ]
  },
  {
   "cell_type": "code",
   "execution_count": 4,
   "id": "0d63d4cb-2a3b-49b8-8cf0-0ec1bc408b57",
   "metadata": {},
   "outputs": [],
   "source": [
    "arr_1d=np.arange(10)"
   ]
  },
  {
   "cell_type": "code",
   "execution_count": 5,
   "id": "d2218876-5055-4fcf-8ed3-c0c5eb6e792f",
   "metadata": {},
   "outputs": [
    {
     "data": {
      "text/plain": [
       "array([0, 1, 2, 3, 4, 5, 6, 7, 8, 9])"
      ]
     },
     "execution_count": 5,
     "metadata": {},
     "output_type": "execute_result"
    }
   ],
   "source": [
    "arr_1d"
   ]
  },
  {
   "cell_type": "code",
   "execution_count": 6,
   "id": "296816ac-4cab-4ec9-894e-a18a8ba10beb",
   "metadata": {},
   "outputs": [],
   "source": [
    "arr_2d=np.arange(10).reshape(2,5)"
   ]
  },
  {
   "cell_type": "code",
   "execution_count": 7,
   "id": "4009f6a7-8b1a-4bb6-81cb-5a3f839daeb7",
   "metadata": {},
   "outputs": [
    {
     "data": {
      "text/plain": [
       "array([[0, 1, 2, 3, 4],\n",
       "       [5, 6, 7, 8, 9]])"
      ]
     },
     "execution_count": 7,
     "metadata": {},
     "output_type": "execute_result"
    }
   ],
   "source": [
    "arr_2d"
   ]
  },
  {
   "cell_type": "code",
   "execution_count": 8,
   "id": "a1c9c34c-7d94-4d00-826b-8af2da25a2ef",
   "metadata": {},
   "outputs": [],
   "source": [
    "arr_3d=np.arange(12).reshape(3,4)"
   ]
  },
  {
   "cell_type": "code",
   "execution_count": 9,
   "id": "1af6891d-8762-4ea4-b243-df361ec72e79",
   "metadata": {},
   "outputs": [
    {
     "data": {
      "text/plain": [
       "array([[ 0,  1,  2,  3],\n",
       "       [ 4,  5,  6,  7],\n",
       "       [ 8,  9, 10, 11]])"
      ]
     },
     "execution_count": 9,
     "metadata": {},
     "output_type": "execute_result"
    }
   ],
   "source": [
    "arr_3d"
   ]
  },
  {
   "cell_type": "code",
   "execution_count": 10,
   "id": "1a3a51b6-424b-42ab-80b1-545e5b186d20",
   "metadata": {},
   "outputs": [
    {
     "data": {
      "text/plain": [
       "numpy.ndarray"
      ]
     },
     "execution_count": 10,
     "metadata": {},
     "output_type": "execute_result"
    }
   ],
   "source": [
    "type(arr_1d)"
   ]
  },
  {
   "cell_type": "code",
   "execution_count": 11,
   "id": "7f94acad-f789-4e69-967c-b52365eb9e1f",
   "metadata": {},
   "outputs": [
    {
     "data": {
      "text/plain": [
       "(10,)"
      ]
     },
     "execution_count": 11,
     "metadata": {},
     "output_type": "execute_result"
    }
   ],
   "source": [
    "np.shape(arr_1d)\n"
   ]
  },
  {
   "cell_type": "code",
   "execution_count": 12,
   "id": "4ac844f9-ace6-4be8-89a7-0617166b1b18",
   "metadata": {},
   "outputs": [
    {
     "data": {
      "text/plain": [
       "(2, 5)"
      ]
     },
     "execution_count": 12,
     "metadata": {},
     "output_type": "execute_result"
    }
   ],
   "source": [
    "np.shape(arr_2d)\n"
   ]
  },
  {
   "cell_type": "code",
   "execution_count": 13,
   "id": "85840f1f-f57f-45e7-baf8-62fac2f264cd",
   "metadata": {},
   "outputs": [
    {
     "data": {
      "text/plain": [
       "(3, 4)"
      ]
     },
     "execution_count": 13,
     "metadata": {},
     "output_type": "execute_result"
    }
   ],
   "source": [
    "np.shape(arr_3d)"
   ]
  },
  {
   "cell_type": "code",
   "execution_count": 28,
   "id": "88780079-93da-47b1-9a44-0c70f34b8258",
   "metadata": {},
   "outputs": [],
   "source": [
    "ar1=np.zeros(12)"
   ]
  },
  {
   "cell_type": "code",
   "execution_count": 30,
   "id": "7fa79383-32c3-46d6-beb1-0d32d6970a88",
   "metadata": {},
   "outputs": [
    {
     "data": {
      "text/plain": [
       "array([0., 0., 0., 0., 0., 0., 0., 0., 0., 0., 0., 0.])"
      ]
     },
     "execution_count": 30,
     "metadata": {},
     "output_type": "execute_result"
    }
   ],
   "source": [
    "ar1"
   ]
  },
  {
   "cell_type": "code",
   "execution_count": 32,
   "id": "b4483742-75bf-404e-be94-a06e61652063",
   "metadata": {},
   "outputs": [],
   "source": [
    "ar2=np.ones(12).reshape(2,6)"
   ]
  },
  {
   "cell_type": "code",
   "execution_count": 34,
   "id": "84f3a223-37da-449a-95dd-01dccefb8983",
   "metadata": {},
   "outputs": [
    {
     "data": {
      "text/plain": [
       "array([[1., 1., 1., 1., 1., 1.],\n",
       "       [1., 1., 1., 1., 1., 1.]])"
      ]
     },
     "execution_count": 34,
     "metadata": {},
     "output_type": "execute_result"
    }
   ],
   "source": [
    "ar2"
   ]
  },
  {
   "cell_type": "code",
   "execution_count": 40,
   "id": "9e898216-b4ba-4d4c-a63c-ad3d4c2f6bc9",
   "metadata": {},
   "outputs": [],
   "source": [
    "Maths_Marks=np.random.randint(0,101,20)\n"
   ]
  },
  {
   "cell_type": "code",
   "execution_count": 42,
   "id": "1124aa0d-6a68-4573-aabd-3b5f533227a2",
   "metadata": {},
   "outputs": [
    {
     "data": {
      "text/plain": [
       "array([67, 71, 35, 82, 59, 36, 17,  5, 62, 47, 23, 38, 52, 86, 73, 68, 77,\n",
       "       16, 50, 34])"
      ]
     },
     "execution_count": 42,
     "metadata": {},
     "output_type": "execute_result"
    }
   ],
   "source": [
    "Maths_Marks"
   ]
  },
  {
   "cell_type": "code",
   "execution_count": 50,
   "id": "00b451a8-0c47-4e25-9f4c-b4bc9f0ca5ba",
   "metadata": {},
   "outputs": [
    {
     "data": {
      "text/plain": [
       "array([ 5, 16, 17, 23, 34, 35, 36, 38, 47, 50, 52, 59, 62, 67, 68, 71, 73,\n",
       "       77, 82, 86])"
      ]
     },
     "execution_count": 50,
     "metadata": {},
     "output_type": "execute_result"
    }
   ],
   "source": [
    "np.sort(Maths_Marks)\n"
   ]
  },
  {
   "cell_type": "code",
   "execution_count": 52,
   "id": "c880c76d-cae3-4f6e-a3a6-f3d7b2bd35c1",
   "metadata": {},
   "outputs": [
    {
     "data": {
      "text/plain": [
       "array([86, 82, 77, 73, 71, 68, 67, 62, 59, 52, 50, 47, 38, 36, 35, 34, 23,\n",
       "       17, 16,  5])"
      ]
     },
     "execution_count": 52,
     "metadata": {},
     "output_type": "execute_result"
    }
   ],
   "source": [
    "np.sort(Maths_Marks)[::-1]"
   ]
  },
  {
   "cell_type": "code",
   "execution_count": 54,
   "id": "5783c974-9132-46b5-8128-ba956b59845a",
   "metadata": {},
   "outputs": [],
   "source": [
    "Maths_Marks_copy=Maths_Marks.copy()"
   ]
  },
  {
   "cell_type": "code",
   "execution_count": 56,
   "id": "6fbe9d36-ca03-4226-ab3f-4707ab1ff162",
   "metadata": {},
   "outputs": [
    {
     "data": {
      "text/plain": [
       "array([67, 71, 35, 82, 59, 36, 17,  5, 62, 47, 23, 38, 52, 86, 73, 68, 77,\n",
       "       16, 50, 34])"
      ]
     },
     "execution_count": 56,
     "metadata": {},
     "output_type": "execute_result"
    }
   ],
   "source": [
    "Maths_Marks_copy"
   ]
  },
  {
   "cell_type": "code",
   "execution_count": 58,
   "id": "84982cb8-26a6-46b7-aa7b-9c9168deeaab",
   "metadata": {},
   "outputs": [],
   "source": [
    "ar_new=np.eye(5)"
   ]
  },
  {
   "cell_type": "code",
   "execution_count": 60,
   "id": "34f5099a-66fa-48a8-aea0-c33e1f6d8452",
   "metadata": {},
   "outputs": [
    {
     "data": {
      "text/plain": [
       "array([[1., 0., 0., 0., 0.],\n",
       "       [0., 1., 0., 0., 0.],\n",
       "       [0., 0., 1., 0., 0.],\n",
       "       [0., 0., 0., 1., 0.],\n",
       "       [0., 0., 0., 0., 1.]])"
      ]
     },
     "execution_count": 60,
     "metadata": {},
     "output_type": "execute_result"
    }
   ],
   "source": [
    "ar_new"
   ]
  },
  {
   "cell_type": "code",
   "execution_count": 68,
   "id": "fee29fe0-2c6e-43b7-84c6-e34780d4cb7c",
   "metadata": {},
   "outputs": [],
   "source": [
    "converted=ar_new.flatten()"
   ]
  },
  {
   "cell_type": "code",
   "execution_count": 72,
   "id": "c3655561-a525-43a1-bd59-408557f695e0",
   "metadata": {},
   "outputs": [
    {
     "data": {
      "text/plain": [
       "array([1., 0., 0., 0., 0., 0., 1., 0., 0., 0., 0., 0., 1., 0., 0., 0., 0.,\n",
       "       0., 1., 0., 0., 0., 0., 0., 1.])"
      ]
     },
     "execution_count": 72,
     "metadata": {},
     "output_type": "execute_result"
    }
   ],
   "source": [
    "converted"
   ]
  },
  {
   "cell_type": "code",
   "execution_count": 74,
   "id": "ff1dd93f-3cb0-4ac0-8b9a-fd64384d5585",
   "metadata": {},
   "outputs": [],
   "source": [
    "trial_ar=np.arange(0,9).reshape(3,3)"
   ]
  },
  {
   "cell_type": "code",
   "execution_count": 76,
   "id": "2cf71f04-954d-4a98-b6a9-487145e2c80e",
   "metadata": {},
   "outputs": [
    {
     "data": {
      "text/plain": [
       "array([[0, 1, 2],\n",
       "       [3, 4, 5],\n",
       "       [6, 7, 8]])"
      ]
     },
     "execution_count": 76,
     "metadata": {},
     "output_type": "execute_result"
    }
   ],
   "source": [
    "trial_ar"
   ]
  },
  {
   "cell_type": "code",
   "execution_count": 78,
   "id": "cc386a95-f158-4830-b40c-11436e8e446a",
   "metadata": {},
   "outputs": [],
   "source": [
    "add_col=np.arange(10,13)"
   ]
  },
  {
   "cell_type": "code",
   "execution_count": 80,
   "id": "1d61408a-2e3c-4002-9fe6-9efaa3b45f55",
   "metadata": {},
   "outputs": [
    {
     "data": {
      "text/plain": [
       "array([10, 11, 12])"
      ]
     },
     "execution_count": 80,
     "metadata": {},
     "output_type": "execute_result"
    }
   ],
   "source": [
    "add_col"
   ]
  },
  {
   "cell_type": "code",
   "execution_count": 96,
   "id": "d7aa6375-51bb-4a9d-a55c-ac5df00a590f",
   "metadata": {},
   "outputs": [],
   "source": [
    "new=np.vstack([trial_ar, add_col])"
   ]
  },
  {
   "cell_type": "code",
   "execution_count": 98,
   "id": "df97572e-1978-478f-bd65-f057eb76940d",
   "metadata": {},
   "outputs": [
    {
     "data": {
      "text/plain": [
       "array([[ 0,  1,  2],\n",
       "       [ 3,  4,  5],\n",
       "       [ 6,  7,  8],\n",
       "       [10, 11, 12]])"
      ]
     },
     "execution_count": 98,
     "metadata": {},
     "output_type": "execute_result"
    }
   ],
   "source": [
    "new"
   ]
  },
  {
   "cell_type": "code",
   "execution_count": 100,
   "id": "f8967747-dc33-4266-8ad5-b1a6db3b7349",
   "metadata": {},
   "outputs": [],
   "source": [
    "v=np.vsplit(new,2)"
   ]
  },
  {
   "cell_type": "code",
   "execution_count": 102,
   "id": "7ffe1a95-6a48-47ec-a575-d0effcbc9bcb",
   "metadata": {},
   "outputs": [
    {
     "data": {
      "text/plain": [
       "[array([[0, 1, 2],\n",
       "        [3, 4, 5]]),\n",
       " array([[ 6,  7,  8],\n",
       "        [10, 11, 12]])]"
      ]
     },
     "execution_count": 102,
     "metadata": {},
     "output_type": "execute_result"
    }
   ],
   "source": [
    "v"
   ]
  },
  {
   "cell_type": "code",
   "execution_count": 108,
   "id": "11cc442a-602f-49e3-b589-bd6816a49071",
   "metadata": {},
   "outputs": [],
   "source": [
    "h=np.hsplit(new,3)"
   ]
  },
  {
   "cell_type": "code",
   "execution_count": 110,
   "id": "76bedaaf-0754-4069-8f0e-d08e6bdcc98f",
   "metadata": {},
   "outputs": [
    {
     "data": {
      "text/plain": [
       "[array([[ 0],\n",
       "        [ 3],\n",
       "        [ 6],\n",
       "        [10]]),\n",
       " array([[ 1],\n",
       "        [ 4],\n",
       "        [ 7],\n",
       "        [11]]),\n",
       " array([[ 2],\n",
       "        [ 5],\n",
       "        [ 8],\n",
       "        [12]])]"
      ]
     },
     "execution_count": 110,
     "metadata": {},
     "output_type": "execute_result"
    }
   ],
   "source": [
    "h"
   ]
  },
  {
   "cell_type": "code",
   "execution_count": 116,
   "id": "9d362abc-fe66-47ff-99ef-d79fb53be3cb",
   "metadata": {},
   "outputs": [],
   "source": [
    "ar_4x4=np.eye(4)"
   ]
  },
  {
   "cell_type": "code",
   "execution_count": 118,
   "id": "71bd2648-cc75-4691-a2e0-d5e614d66ff3",
   "metadata": {},
   "outputs": [
    {
     "data": {
      "text/plain": [
       "array([[1., 0., 0., 0.],\n",
       "       [0., 1., 0., 0.],\n",
       "       [0., 0., 1., 0.],\n",
       "       [0., 0., 0., 1.]])"
      ]
     },
     "execution_count": 118,
     "metadata": {},
     "output_type": "execute_result"
    }
   ],
   "source": [
    "ar_4x4"
   ]
  },
  {
   "cell_type": "code",
   "execution_count": 120,
   "id": "04ece306-767b-43f4-96c3-80c009f2355b",
   "metadata": {},
   "outputs": [
    {
     "data": {
      "text/plain": [
       "array([[5., 4., 4., 4.],\n",
       "       [4., 5., 4., 4.],\n",
       "       [4., 4., 5., 4.],\n",
       "       [4., 4., 4., 5.]])"
      ]
     },
     "execution_count": 120,
     "metadata": {},
     "output_type": "execute_result"
    }
   ],
   "source": [
    "ar_4x4+4\n"
   ]
  },
  {
   "cell_type": "code",
   "execution_count": 122,
   "id": "f6cdc8e0-2021-452d-86f5-5693337538e1",
   "metadata": {},
   "outputs": [],
   "source": [
    "float_ar=np.array([1.242,7.987,9.098,6.777,5.990])"
   ]
  },
  {
   "cell_type": "code",
   "execution_count": 126,
   "id": "b71d9b3f-d5bc-4bed-98e8-73b60e6139a5",
   "metadata": {},
   "outputs": [],
   "source": [
    "ceiling=np.ceil(float_ar)"
   ]
  },
  {
   "cell_type": "code",
   "execution_count": 128,
   "id": "7008df9e-59b5-4300-80c5-cae7dbf9e57e",
   "metadata": {},
   "outputs": [
    {
     "data": {
      "text/plain": [
       "array([ 2.,  8., 10.,  7.,  6.])"
      ]
     },
     "execution_count": 128,
     "metadata": {},
     "output_type": "execute_result"
    }
   ],
   "source": [
    "ceiling"
   ]
  },
  {
   "cell_type": "code",
   "execution_count": 132,
   "id": "33d934d4-22af-47e3-8f48-a3affc2a9968",
   "metadata": {},
   "outputs": [],
   "source": [
    "flooring=np.floor(float_ar)"
   ]
  },
  {
   "cell_type": "code",
   "execution_count": 134,
   "id": "d9edeb64-f1e4-4685-8c5f-2026bd6704f8",
   "metadata": {},
   "outputs": [
    {
     "data": {
      "text/plain": [
       "array([1., 7., 9., 6., 5.])"
      ]
     },
     "execution_count": 134,
     "metadata": {},
     "output_type": "execute_result"
    }
   ],
   "source": [
    "flooring"
   ]
  },
  {
   "cell_type": "code",
   "execution_count": 136,
   "id": "34217226-79d2-4b16-a122-4b70463c0a80",
   "metadata": {},
   "outputs": [],
   "source": [
    "round_up=np.round(float_ar,2)"
   ]
  },
  {
   "cell_type": "code",
   "execution_count": 138,
   "id": "8ebf3bb3-8bf8-41c7-9560-35947d4cfc88",
   "metadata": {},
   "outputs": [
    {
     "data": {
      "text/plain": [
       "array([1.24, 7.99, 9.1 , 6.78, 5.99])"
      ]
     },
     "execution_count": 138,
     "metadata": {},
     "output_type": "execute_result"
    }
   ],
   "source": [
    "round_up"
   ]
  },
  {
   "cell_type": "code",
   "execution_count": 140,
   "id": "36ddf37a-6bc4-4331-8ea2-e3a72b5dce66",
   "metadata": {},
   "outputs": [],
   "source": [
    "matrix_5x5=np.arange(0,25).reshape(5,5)"
   ]
  },
  {
   "cell_type": "code",
   "execution_count": 142,
   "id": "7bb14404-dc05-4477-a7e4-3344e1fbcbd1",
   "metadata": {},
   "outputs": [
    {
     "data": {
      "text/plain": [
       "array([[ 0,  1,  2,  3,  4],\n",
       "       [ 5,  6,  7,  8,  9],\n",
       "       [10, 11, 12, 13, 14],\n",
       "       [15, 16, 17, 18, 19],\n",
       "       [20, 21, 22, 23, 24]])"
      ]
     },
     "execution_count": 142,
     "metadata": {},
     "output_type": "execute_result"
    }
   ],
   "source": [
    "matrix_5x5"
   ]
  },
  {
   "cell_type": "code",
   "execution_count": 146,
   "id": "86781819-06d6-4e65-832f-608f83b87dd6",
   "metadata": {},
   "outputs": [
    {
     "data": {
      "text/plain": [
       "array([0, 1, 2, 3, 4])"
      ]
     },
     "execution_count": 146,
     "metadata": {},
     "output_type": "execute_result"
    }
   ],
   "source": [
    "np.min(matrix_5x5,0)"
   ]
  },
  {
   "cell_type": "code",
   "execution_count": 148,
   "id": "001353fb-dd58-4b91-ad04-7f5be6be9545",
   "metadata": {},
   "outputs": [
    {
     "data": {
      "text/plain": [
       "array([20, 21, 22, 23, 24])"
      ]
     },
     "execution_count": 148,
     "metadata": {},
     "output_type": "execute_result"
    }
   ],
   "source": [
    "np.max(matrix_5x5,0)"
   ]
  },
  {
   "cell_type": "code",
   "execution_count": 152,
   "id": "9c8a6bcf-eb38-4d3e-867f-b32836515643",
   "metadata": {},
   "outputs": [
    {
     "data": {
      "text/plain": [
       "array([7.07106781, 7.07106781, 7.07106781, 7.07106781, 7.07106781])"
      ]
     },
     "execution_count": 152,
     "metadata": {},
     "output_type": "execute_result"
    }
   ],
   "source": [
    "np.std(matrix_5x5,0)"
   ]
  },
  {
   "cell_type": "code",
   "execution_count": 156,
   "id": "514e9a75-9aa4-4a22-b32f-02985d215748",
   "metadata": {},
   "outputs": [
    {
     "data": {
      "text/plain": [
       "array([50., 50., 50., 50., 50.])"
      ]
     },
     "execution_count": 156,
     "metadata": {},
     "output_type": "execute_result"
    }
   ],
   "source": [
    "np.var(matrix_5x5,0)"
   ]
  },
  {
   "cell_type": "code",
   "execution_count": 160,
   "id": "df6b7117-a933-43d5-986f-18a011f6de65",
   "metadata": {},
   "outputs": [],
   "source": [
    "null_vector=np.zeros(10)"
   ]
  },
  {
   "cell_type": "code",
   "execution_count": 164,
   "id": "b7ba5f6b-8fb1-4d14-a1df-a6de8cd74860",
   "metadata": {},
   "outputs": [
    {
     "data": {
      "text/plain": [
       "array([  0.,   0.,   0.,   0.,   0.,   0., 200.,   0.,   0.,   0.])"
      ]
     },
     "execution_count": 164,
     "metadata": {},
     "output_type": "execute_result"
    }
   ],
   "source": [
    "null_vector"
   ]
  },
  {
   "cell_type": "code",
   "execution_count": 162,
   "id": "d2adf361-a7b9-41d0-8d24-3fbc053ccc85",
   "metadata": {},
   "outputs": [],
   "source": [
    "null_vector[6]=200"
   ]
  },
  {
   "cell_type": "code",
   "execution_count": 166,
   "id": "1048eeed-8a79-461b-abd9-45d9be583959",
   "metadata": {},
   "outputs": [
    {
     "data": {
      "text/plain": [
       "array([  0.,   0.,   0.,   0.,   0.,   0., 200.,   0.,   0.,   0.])"
      ]
     },
     "execution_count": 166,
     "metadata": {},
     "output_type": "execute_result"
    }
   ],
   "source": [
    "null_vector"
   ]
  },
  {
   "cell_type": "code",
   "execution_count": 170,
   "id": "d3539d88-7395-42ba-bb09-a727fad44903",
   "metadata": {},
   "outputs": [],
   "source": [
    "arrr=np.arange(100,150)"
   ]
  },
  {
   "cell_type": "code",
   "execution_count": 172,
   "id": "d95ec757-1e28-4284-ad25-7f1fb1fbda19",
   "metadata": {},
   "outputs": [
    {
     "data": {
      "text/plain": [
       "array([100, 101, 102, 103, 104, 105, 106, 107, 108, 109, 110, 111, 112,\n",
       "       113, 114, 115, 116, 117, 118, 119, 120, 121, 122, 123, 124, 125,\n",
       "       126, 127, 128, 129, 130, 131, 132, 133, 134, 135, 136, 137, 138,\n",
       "       139, 140, 141, 142, 143, 144, 145, 146, 147, 148, 149])"
      ]
     },
     "execution_count": 172,
     "metadata": {},
     "output_type": "execute_result"
    }
   ],
   "source": [
    "arrr"
   ]
  },
  {
   "cell_type": "code",
   "execution_count": 178,
   "id": "bf2adbbb-01c1-40df-9aa2-8a1c7d2d8d14",
   "metadata": {},
   "outputs": [
    {
     "data": {
      "text/plain": [
       "array([149, 148, 147, 146, 145, 144, 143, 142, 141, 140, 139, 138, 137,\n",
       "       136, 135, 134, 133, 132, 131, 130, 129, 128, 127, 126, 125, 124,\n",
       "       123, 122, 121, 120, 119, 118, 117, 116, 115, 114, 113, 112, 111,\n",
       "       110, 109, 108, 107, 106, 105, 104, 103, 102, 101, 100])"
      ]
     },
     "execution_count": 178,
     "metadata": {},
     "output_type": "execute_result"
    }
   ],
   "source": [
    "arrr[::-1]"
   ]
  },
  {
   "cell_type": "code",
   "execution_count": 182,
   "id": "6b3e575c-05a3-437e-a432-6b16da8cf91f",
   "metadata": {},
   "outputs": [],
   "source": [
    "function_matrix=np.arange(25).reshape(5,5)"
   ]
  },
  {
   "cell_type": "code",
   "execution_count": 184,
   "id": "4bab0777-7ba2-4a15-ac9a-41f8cc82bb80",
   "metadata": {},
   "outputs": [
    {
     "data": {
      "text/plain": [
       "array([[ 0,  1,  2,  3,  4],\n",
       "       [ 5,  6,  7,  8,  9],\n",
       "       [10, 11, 12, 13, 14],\n",
       "       [15, 16, 17, 18, 19],\n",
       "       [20, 21, 22, 23, 24]])"
      ]
     },
     "execution_count": 184,
     "metadata": {},
     "output_type": "execute_result"
    }
   ],
   "source": [
    "function_matrix"
   ]
  },
  {
   "cell_type": "code",
   "execution_count": 186,
   "id": "d4693e0d-2413-4639-878c-03beeae1c35e",
   "metadata": {},
   "outputs": [],
   "source": [
    "zero_ar=[1,0,2,0,0,4,0,8]"
   ]
  },
  {
   "cell_type": "code",
   "execution_count": 188,
   "id": "2cbe305e-5533-4656-9261-f3d06fe426c1",
   "metadata": {},
   "outputs": [
    {
     "data": {
      "text/plain": [
       "[1, 0, 2, 0, 0, 4, 0, 8]"
      ]
     },
     "execution_count": 188,
     "metadata": {},
     "output_type": "execute_result"
    }
   ],
   "source": [
    "zero_ar"
   ]
  },
  {
   "cell_type": "code",
   "execution_count": 196,
   "id": "571b2b6e-ea48-4783-83e4-52b33cf89786",
   "metadata": {},
   "outputs": [],
   "source": [
    "zeross=np.nonzero(zero_ar)[0]"
   ]
  },
  {
   "cell_type": "code",
   "execution_count": 198,
   "id": "dc656845-c34e-456f-9eed-380888fa2452",
   "metadata": {},
   "outputs": [
    {
     "data": {
      "text/plain": [
       "array([0, 2, 5, 7], dtype=int64)"
      ]
     },
     "execution_count": 198,
     "metadata": {},
     "output_type": "execute_result"
    }
   ],
   "source": [
    "zeross"
   ]
  },
  {
   "cell_type": "code",
   "execution_count": 242,
   "id": "6260fd89-583f-46df-815b-5e5819869f5e",
   "metadata": {},
   "outputs": [],
   "source": [
    "mat_10x10=np.ones(100).reshape(10,10)"
   ]
  },
  {
   "cell_type": "code",
   "execution_count": 244,
   "id": "b84b8eee-ab83-49fa-8bfc-97588a438758",
   "metadata": {},
   "outputs": [
    {
     "data": {
      "text/plain": [
       "array([[1., 1., 1., 1., 1., 1., 1., 1., 1., 1.],\n",
       "       [1., 1., 1., 1., 1., 1., 1., 1., 1., 1.],\n",
       "       [1., 1., 1., 1., 1., 1., 1., 1., 1., 1.],\n",
       "       [1., 1., 1., 1., 1., 1., 1., 1., 1., 1.],\n",
       "       [1., 1., 1., 1., 1., 1., 1., 1., 1., 1.],\n",
       "       [1., 1., 1., 1., 1., 1., 1., 1., 1., 1.],\n",
       "       [1., 1., 1., 1., 1., 1., 1., 1., 1., 1.],\n",
       "       [1., 1., 1., 1., 1., 1., 1., 1., 1., 1.],\n",
       "       [1., 1., 1., 1., 1., 1., 1., 1., 1., 1.],\n",
       "       [1., 1., 1., 1., 1., 1., 1., 1., 1., 1.]])"
      ]
     },
     "execution_count": 244,
     "metadata": {},
     "output_type": "execute_result"
    }
   ],
   "source": [
    "mat_10x10"
   ]
  },
  {
   "cell_type": "code",
   "execution_count": 250,
   "id": "29436f19-8d34-43f3-b38b-4d4459e0f166",
   "metadata": {},
   "outputs": [],
   "source": [
    "mat_10x10[1:9,1:9]=0"
   ]
  },
  {
   "cell_type": "code",
   "execution_count": 252,
   "id": "1b14cb2c-9f5d-4b98-acfc-192d25973a21",
   "metadata": {},
   "outputs": [
    {
     "data": {
      "text/plain": [
       "array([[1., 1., 1., 1., 1., 1., 1., 1., 1., 1.],\n",
       "       [1., 0., 0., 0., 0., 0., 0., 0., 0., 1.],\n",
       "       [1., 0., 0., 0., 0., 0., 0., 0., 0., 1.],\n",
       "       [1., 0., 0., 0., 0., 0., 0., 0., 0., 1.],\n",
       "       [1., 0., 0., 0., 0., 0., 0., 0., 0., 1.],\n",
       "       [1., 0., 0., 0., 0., 0., 0., 0., 0., 1.],\n",
       "       [1., 0., 0., 0., 0., 0., 0., 0., 0., 1.],\n",
       "       [1., 0., 0., 0., 0., 0., 0., 0., 0., 1.],\n",
       "       [1., 0., 0., 0., 0., 0., 0., 0., 0., 1.],\n",
       "       [1., 1., 1., 1., 1., 1., 1., 1., 1., 1.]])"
      ]
     },
     "execution_count": 252,
     "metadata": {},
     "output_type": "execute_result"
    }
   ],
   "source": [
    "mat_10x10"
   ]
  },
  {
   "cell_type": "code",
   "execution_count": 254,
   "id": "92ad371b-be74-4099-84ee-a272cef2d1a2",
   "metadata": {},
   "outputs": [],
   "source": [
    "checker=np.zeros(64).reshape(8,8)"
   ]
  },
  {
   "cell_type": "code",
   "execution_count": 256,
   "id": "53b216a2-23a8-46fb-a837-580c8da7bc05",
   "metadata": {},
   "outputs": [
    {
     "data": {
      "text/plain": [
       "array([[0., 0., 0., 0., 0., 0., 0., 0.],\n",
       "       [0., 0., 0., 0., 0., 0., 0., 0.],\n",
       "       [0., 0., 0., 0., 0., 0., 0., 0.],\n",
       "       [0., 0., 0., 0., 0., 0., 0., 0.],\n",
       "       [0., 0., 0., 0., 0., 0., 0., 0.],\n",
       "       [0., 0., 0., 0., 0., 0., 0., 0.],\n",
       "       [0., 0., 0., 0., 0., 0., 0., 0.],\n",
       "       [0., 0., 0., 0., 0., 0., 0., 0.]])"
      ]
     },
     "execution_count": 256,
     "metadata": {},
     "output_type": "execute_result"
    }
   ],
   "source": [
    "checker"
   ]
  },
  {
   "cell_type": "code",
   "execution_count": 258,
   "id": "c7cfc62f-e502-4f9e-9d8c-ee2185a99095",
   "metadata": {},
   "outputs": [],
   "source": [
    "checker[1::2,::2]= 1\n",
    "checker[::2,1::2]= 1"
   ]
  },
  {
   "cell_type": "code",
   "execution_count": 260,
   "id": "fd9ba5c5-b060-41e0-b30e-01404f632896",
   "metadata": {},
   "outputs": [
    {
     "data": {
      "text/plain": [
       "array([[0., 1., 0., 1., 0., 1., 0., 1.],\n",
       "       [1., 0., 1., 0., 1., 0., 1., 0.],\n",
       "       [0., 1., 0., 1., 0., 1., 0., 1.],\n",
       "       [1., 0., 1., 0., 1., 0., 1., 0.],\n",
       "       [0., 1., 0., 1., 0., 1., 0., 1.],\n",
       "       [1., 0., 1., 0., 1., 0., 1., 0.],\n",
       "       [0., 1., 0., 1., 0., 1., 0., 1.],\n",
       "       [1., 0., 1., 0., 1., 0., 1., 0.]])"
      ]
     },
     "execution_count": 260,
     "metadata": {},
     "output_type": "execute_result"
    }
   ],
   "source": [
    "checker"
   ]
  },
  {
   "cell_type": "code",
   "execution_count": 262,
   "id": "30ddb308-e3c2-40c4-8e9c-ca15d289e534",
   "metadata": {},
   "outputs": [],
   "source": [
    "matrix1=np.random.randint(0,10,(3,3))"
   ]
  },
  {
   "cell_type": "code",
   "execution_count": 264,
   "id": "f9bf1cc6-c9df-48ec-bcf8-98fc64cc191d",
   "metadata": {},
   "outputs": [],
   "source": [
    "matrix2=np.random.randint(0,10,(3,3))\n"
   ]
  },
  {
   "cell_type": "code",
   "execution_count": 266,
   "id": "e1e8cf15-6cdd-4636-bfbf-0417795ed4ac",
   "metadata": {},
   "outputs": [],
   "source": [
    "sumation=matrix1+matrix2"
   ]
  },
  {
   "cell_type": "code",
   "execution_count": 268,
   "id": "4ad6a718-e322-4acf-91b0-73418b49f666",
   "metadata": {},
   "outputs": [
    {
     "data": {
      "text/plain": [
       "array([[16, 13, 11],\n",
       "       [ 3, 16, 15],\n",
       "       [12, 10,  9]])"
      ]
     },
     "execution_count": 268,
     "metadata": {},
     "output_type": "execute_result"
    }
   ],
   "source": [
    "sumation"
   ]
  },
  {
   "cell_type": "code",
   "execution_count": 270,
   "id": "ff0b7bc6-3e9e-40ae-a25f-1b542f6137dc",
   "metadata": {},
   "outputs": [],
   "source": [
    "product=matrix1*matrix2"
   ]
  },
  {
   "cell_type": "code",
   "execution_count": 272,
   "id": "771a9769-acf4-4a49-8542-dc5bb6009189",
   "metadata": {},
   "outputs": [
    {
     "data": {
      "text/plain": [
       "array([[63, 40, 30],\n",
       "       [ 2, 64, 54],\n",
       "       [32, 24,  8]])"
      ]
     },
     "execution_count": 272,
     "metadata": {},
     "output_type": "execute_result"
    }
   ],
   "source": [
    "product"
   ]
  },
  {
   "cell_type": "code",
   "execution_count": 274,
   "id": "724782e3-412d-446a-9c7a-7c7c4550d42a",
   "metadata": {},
   "outputs": [],
   "source": [
    "difference=matrix1-matrix2"
   ]
  },
  {
   "cell_type": "code",
   "execution_count": 276,
   "id": "74f1be52-b9b7-4f1c-a878-55b07cb07c8e",
   "metadata": {},
   "outputs": [
    {
     "data": {
      "text/plain": [
       "array([[-2,  3, -1],\n",
       "       [-1,  0, -3],\n",
       "       [ 4,  2, -7]])"
      ]
     },
     "execution_count": 276,
     "metadata": {},
     "output_type": "execute_result"
    }
   ],
   "source": [
    "difference"
   ]
  },
  {
   "cell_type": "code",
   "execution_count": 278,
   "id": "7924a573-718c-439e-83e0-c38cc1d06742",
   "metadata": {},
   "outputs": [],
   "source": [
    "div=matrix1/matrix2"
   ]
  },
  {
   "cell_type": "code",
   "execution_count": 280,
   "id": "da46131f-9d39-4c91-963b-ddf0e92db166",
   "metadata": {},
   "outputs": [
    {
     "data": {
      "text/plain": [
       "array([[0.77777778, 1.6       , 0.83333333],\n",
       "       [0.5       , 1.        , 0.66666667],\n",
       "       [2.        , 1.5       , 0.125     ]])"
      ]
     },
     "execution_count": 280,
     "metadata": {},
     "output_type": "execute_result"
    }
   ],
   "source": [
    "div"
   ]
  },
  {
   "cell_type": "code",
   "execution_count": null,
   "id": "f2219df8-11bb-4502-8d98-3c3466d86bca",
   "metadata": {},
   "outputs": [],
   "source": []
  }
 ],
 "metadata": {
  "kernelspec": {
   "display_name": "Python 3 (ipykernel)",
   "language": "python",
   "name": "python3"
  },
  "language_info": {
   "codemirror_mode": {
    "name": "ipython",
    "version": 3
   },
   "file_extension": ".py",
   "mimetype": "text/x-python",
   "name": "python",
   "nbconvert_exporter": "python",
   "pygments_lexer": "ipython3",
   "version": "3.12.4"
  }
 },
 "nbformat": 4,
 "nbformat_minor": 5
}
