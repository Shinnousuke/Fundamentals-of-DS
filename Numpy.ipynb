{
 "cells": [
  {
   "cell_type": "code",
   "execution_count": 1,
   "id": "128a38bd-b25f-46b6-87e3-99ea2efb9177",
   "metadata": {},
   "outputs": [
    {
     "data": {
      "text/plain": [
       "'2.0.0'"
      ]
     },
     "execution_count": 1,
     "metadata": {},
     "output_type": "execute_result"
    }
   ],
   "source": [
    "import numpy as np\n",
    "np.__version__\n"
   ]
  },
  {
   "cell_type": "code",
   "execution_count": 2,
   "id": "adfff39c-4620-46ec-ab88-644ed6e0e278",
   "metadata": {},
   "outputs": [
    {
     "data": {
      "text/plain": [
       "array([0., 0., 0., 0., 0., 0., 0., 0., 0., 0.])"
      ]
     },
     "execution_count": 2,
     "metadata": {},
     "output_type": "execute_result"
    }
   ],
   "source": [
    "arr = np.zeros(10)\n",
    "arr"
   ]
  },
  {
   "cell_type": "code",
   "execution_count": null,
   "id": "abb9e052-a32e-4a39-894a-8412f8155c64",
   "metadata": {},
   "outputs": [],
   "source": []
  },
  {
   "cell_type": "code",
   "execution_count": 3,
   "id": "8941a9d9-4f5f-4e69-9f1c-c92dabe051c5",
   "metadata": {},
   "outputs": [
    {
     "name": "stdout",
     "output_type": "stream",
     "text": [
      "Help on built-in function len in module builtins:\n",
      "\n",
      "len(obj, /)\n",
      "    Return the number of items in a container.\n",
      "\n"
     ]
    }
   ],
   "source": [
    "help(len)"
   ]
  },
  {
   "cell_type": "markdown",
   "id": "f929da62-7395-49b2-87e6-aa02eaf2287b",
   "metadata": {},
   "source": [
    "Create An Array"
   ]
  },
  {
   "cell_type": "code",
   "execution_count": 4,
   "id": "63eb452f-23fa-452b-9baa-b5c19d8f5f89",
   "metadata": {},
   "outputs": [
    {
     "data": {
      "text/plain": [
       "array([ 0,  1,  2,  3,  4,  5,  6,  7,  8,  9, 10, 11, 12, 13, 14, 15, 16,\n",
       "       17, 18, 19, 20, 21, 22, 23, 24, 25, 26, 27, 28, 29, 30, 31, 32, 33,\n",
       "       34, 35, 36, 37, 38, 39, 40, 41, 42, 43, 44, 45, 46, 47, 48, 49, 50,\n",
       "       51, 52, 53, 54, 55, 56, 57, 58, 59, 60, 61, 62, 63, 64, 65, 66, 67,\n",
       "       68, 69, 70, 71, 72, 73, 74, 75, 76, 77, 78, 79, 80, 81, 82, 83, 84,\n",
       "       85, 86, 87, 88, 89, 90, 91, 92, 93, 94, 95, 96, 97, 98, 99])"
      ]
     },
     "execution_count": 4,
     "metadata": {},
     "output_type": "execute_result"
    }
   ],
   "source": [
    "arr1 = np.arange(0,100)\n",
    "arr1"
   ]
  },
  {
   "cell_type": "code",
   "execution_count": 5,
   "id": "fb20032f-18ab-4e7c-ae85-fd7be6c0d481",
   "metadata": {},
   "outputs": [],
   "source": [
    "# np.arange? # This is to know about function"
   ]
  },
  {
   "cell_type": "code",
   "execution_count": 6,
   "id": "52499d1c-639a-42fd-9d17-8f19c762a03e",
   "metadata": {},
   "outputs": [],
   "source": [
    "arr3= np.arange(0,100,4)"
   ]
  },
  {
   "cell_type": "code",
   "execution_count": 7,
   "id": "4419c059-39ed-43cd-a09f-8be1e3b069fb",
   "metadata": {},
   "outputs": [
    {
     "data": {
      "text/plain": [
       "array([ 0,  4,  8, 12, 16, 20, 24, 28, 32, 36, 40, 44, 48, 52, 56, 60, 64,\n",
       "       68, 72, 76, 80, 84, 88, 92, 96])"
      ]
     },
     "execution_count": 7,
     "metadata": {},
     "output_type": "execute_result"
    }
   ],
   "source": [
    "arr3"
   ]
  },
  {
   "cell_type": "code",
   "execution_count": 8,
   "id": "8bb01d91-9236-49d4-bb03-1a45d405d2ed",
   "metadata": {},
   "outputs": [
    {
     "data": {
      "text/plain": [
       "array([-100,  -99,  -98,  -97,  -96,  -95,  -94,  -93,  -92,  -91,  -90,\n",
       "        -89,  -88,  -87,  -86,  -85,  -84,  -83,  -82,  -81,  -80,  -79,\n",
       "        -78,  -77,  -76,  -75,  -74,  -73,  -72,  -71,  -70,  -69,  -68,\n",
       "        -67,  -66,  -65,  -64,  -63,  -62,  -61,  -60,  -59,  -58,  -57,\n",
       "        -56,  -55,  -54,  -53,  -52,  -51,  -50,  -49,  -48,  -47,  -46,\n",
       "        -45,  -44,  -43,  -42,  -41,  -40,  -39,  -38,  -37,  -36,  -35,\n",
       "        -34,  -33,  -32,  -31,  -30,  -29,  -28,  -27,  -26,  -25,  -24,\n",
       "        -23,  -22,  -21,  -20,  -19,  -18,  -17,  -16,  -15,  -14,  -13,\n",
       "        -12,  -11,  -10,   -9,   -8,   -7,   -6,   -5,   -4,   -3,   -2,\n",
       "         -1])"
      ]
     },
     "execution_count": 8,
     "metadata": {},
     "output_type": "execute_result"
    }
   ],
   "source": [
    "arr4= np.arange(-100,0)\n",
    "arr4"
   ]
  },
  {
   "cell_type": "code",
   "execution_count": 9,
   "id": "dba7702c-835c-430a-bae1-a084f2c48156",
   "metadata": {},
   "outputs": [
    {
     "data": {
      "text/plain": [
       "array([[0, 1, 2],\n",
       "       [3, 4, 5],\n",
       "       [6, 7, 8]])"
      ]
     },
     "execution_count": 9,
     "metadata": {},
     "output_type": "execute_result"
    }
   ],
   "source": [
    "# To Reshape an Array\n",
    "np.arange(0,9).reshape(3,3)"
   ]
  },
  {
   "cell_type": "markdown",
   "id": "261010f3-8d28-45f6-8d0c-58ad95541e6b",
   "metadata": {},
   "source": [
    "# Python list\n",
    "List comprehension\n",
    "array module(import lib array)\n",
    "numpy array:\n",
    "-> zeros\n",
    "-> Ones\n",
    "-> full\n",
    "-> eye\n",
    "->Arrange\n",
    "-> Reshape\n"
   ]
  },
  {
   "cell_type": "markdown",
   "id": "33099c71-cb46-48e5-a2a9-07c6aa6bd28e",
   "metadata": {},
   "source": [
    "# Diffrence between list and array\n",
    "list : we can put diffrent type elements.\n",
    "Array : we can only put same type of element.\n",
    "list : Required more time\n",
    "Array : Required less time\n",
    "list : It store hetroginious type of data\n",
    "Array : It store homoginious type of data"
   ]
  },
  {
   "cell_type": "code",
   "execution_count": 10,
   "id": "cd59d276-7fe5-42a2-a509-b4adc4faf38a",
   "metadata": {},
   "outputs": [],
   "source": [
    "lst = list(range(0,10)) "
   ]
  },
  {
   "cell_type": "code",
   "execution_count": 11,
   "id": "51569794-0d04-445e-8613-0653d56c9450",
   "metadata": {},
   "outputs": [
    {
     "data": {
      "text/plain": [
       "[0, 1, 2, 3, 4, 5, 6, 7, 8, 9]"
      ]
     },
     "execution_count": 11,
     "metadata": {},
     "output_type": "execute_result"
    }
   ],
   "source": [
    "l2 = [x for x in range(0,10)]\n",
    "l2"
   ]
  },
  {
   "cell_type": "code",
   "execution_count": 12,
   "id": "823e74da-b30d-4e43-b3d1-ef00312866e0",
   "metadata": {},
   "outputs": [
    {
     "data": {
      "text/plain": [
       "['0', '1', '2', '3', '4', '5', '6', '7', '8', '9']"
      ]
     },
     "execution_count": 12,
     "metadata": {},
     "output_type": "execute_result"
    }
   ],
   "source": [
    "l3 = [str(x) for x in range(0,10)] \n",
    "l3"
   ]
  },
  {
   "cell_type": "code",
   "execution_count": 13,
   "id": "05bb25a3-1d42-4e8b-912f-e1acef68142d",
   "metadata": {},
   "outputs": [
    {
     "data": {
      "text/plain": [
       "[0, 1, 4, 9, 16, 25, 36, 49, 64, 81]"
      ]
     },
     "execution_count": 13,
     "metadata": {},
     "output_type": "execute_result"
    }
   ],
   "source": [
    "l4 = [x**2 for x in range(0,10)]  # To square given list\n",
    "l4"
   ]
  },
  {
   "cell_type": "code",
   "execution_count": 14,
   "id": "97e3c1cc-eb0b-4046-a42b-b4df784dbe3e",
   "metadata": {},
   "outputs": [
    {
     "data": {
      "text/plain": [
       "[int, int, int, int, int, int, int, int, int, int]"
      ]
     },
     "execution_count": 14,
     "metadata": {},
     "output_type": "execute_result"
    }
   ],
   "source": [
    "l5 = [type(x) for x in range(0,10)]\n",
    "l5"
   ]
  },
  {
   "cell_type": "markdown",
   "id": "de174c3b-a23c-4817-98ef-ab38659e5a3a",
   "metadata": {},
   "source": [
    "# To import Array"
   ]
  },
  {
   "cell_type": "code",
   "execution_count": 15,
   "id": "24d538ee-887e-4949-8f32-2d502954ecd1",
   "metadata": {},
   "outputs": [],
   "source": [
    "import array as arr"
   ]
  },
  {
   "cell_type": "code",
   "execution_count": 16,
   "id": "899a3710-c948-493c-a7f0-295af302da76",
   "metadata": {},
   "outputs": [],
   "source": [
    "# help(array)"
   ]
  },
  {
   "cell_type": "code",
   "execution_count": 17,
   "id": "a7bdf308-f5d1-49da-9234-1e98a64c76fe",
   "metadata": {},
   "outputs": [
    {
     "data": {
      "text/plain": [
       "array('i', [0, 1, 2, 3, 4, 5, 6, 7, 8, 9])"
      ]
     },
     "execution_count": 17,
     "metadata": {},
     "output_type": "execute_result"
    }
   ],
   "source": [
    "a = arr.array('i',l2)\n",
    "a"
   ]
  },
  {
   "cell_type": "code",
   "execution_count": 18,
   "id": "a1eda0b5-2bfd-4bd1-939d-00ca47403149",
   "metadata": {},
   "outputs": [
    {
     "data": {
      "text/plain": [
       "array('i', [0, 1, 4, 9, 16, 25, 36, 49, 64, 81])"
      ]
     },
     "execution_count": 18,
     "metadata": {},
     "output_type": "execute_result"
    }
   ],
   "source": [
    "arr1 = arr.array('i',[x**2 for x in l2])\n",
    "arr1"
   ]
  },
  {
   "cell_type": "code",
   "execution_count": 19,
   "id": "3ed8813a-c840-4355-a0b3-b327037b1925",
   "metadata": {},
   "outputs": [
    {
     "data": {
      "text/plain": [
       "array([0, 1, 2, 3, 4, 5, 6, 7, 8, 9])"
      ]
     },
     "execution_count": 19,
     "metadata": {},
     "output_type": "execute_result"
    }
   ],
   "source": [
    "np.array(l2)"
   ]
  },
  {
   "cell_type": "code",
   "execution_count": 20,
   "id": "139e44c4-c3c7-47ae-9eca-20d3c13b58de",
   "metadata": {},
   "outputs": [
    {
     "data": {
      "text/plain": [
       "array([ 3,  4,  5,  6,  7,  8,  9, 10, 11, 12])"
      ]
     },
     "execution_count": 20,
     "metadata": {},
     "output_type": "execute_result"
    }
   ],
   "source": [
    "np.array([x+3 for x in l2])"
   ]
  },
  {
   "cell_type": "code",
   "execution_count": 21,
   "id": "9bdb2ebf-aaa1-4f1e-a3db-db1ebdf33147",
   "metadata": {},
   "outputs": [
    {
     "data": {
      "text/plain": [
       "array([[0., 1., 2., 3., 4., 5., 6., 7., 8., 9.]])"
      ]
     },
     "execution_count": 21,
     "metadata": {},
     "output_type": "execute_result"
    }
   ],
   "source": [
    "np.array([l2],dtype = float)"
   ]
  },
  {
   "cell_type": "code",
   "execution_count": 22,
   "id": "60bcd8d5-2967-4744-a417-99b3ee298b18",
   "metadata": {},
   "outputs": [
    {
     "data": {
      "text/plain": [
       "[[1, 2, 3], [3, 4, 5]]"
      ]
     },
     "execution_count": 22,
     "metadata": {},
     "output_type": "execute_result"
    }
   ],
   "source": [
    "# 2-D List\n",
    "l2d = [[1,2,3],[3,4,5]]\n",
    "l2d"
   ]
  },
  {
   "cell_type": "code",
   "execution_count": 23,
   "id": "fd6c8e20-35f9-4e8f-acb6-8e2fbc62fdf2",
   "metadata": {},
   "outputs": [
    {
     "data": {
      "text/plain": [
       "array([[1, 2, 3],\n",
       "       [3, 4, 5]])"
      ]
     },
     "execution_count": 23,
     "metadata": {},
     "output_type": "execute_result"
    }
   ],
   "source": [
    "l3d =[range(i,i+3) for i in [1,3]]\n",
    "np.array(l3d)"
   ]
  },
  {
   "cell_type": "code",
   "execution_count": 24,
   "id": "716ae000-2a0b-403f-ac72-4996b31724cf",
   "metadata": {},
   "outputs": [
    {
     "data": {
      "text/plain": [
       "array([[1, 2, 3],\n",
       "       [3, 4, 5],\n",
       "       [2, 3, 4]])"
      ]
     },
     "execution_count": 24,
     "metadata": {},
     "output_type": "execute_result"
    }
   ],
   "source": [
    "l4d =[range(i,i+3) for i in [1,3,2]]\n",
    "np.array(l4d)"
   ]
  },
  {
   "cell_type": "code",
   "execution_count": 25,
   "id": "a5aeae95-fcc8-487d-a436-dffc95588ca2",
   "metadata": {},
   "outputs": [
    {
     "data": {
      "text/plain": [
       "array([[0., 0., 0., 0.],\n",
       "       [0., 0., 0., 0.]])"
      ]
     },
     "execution_count": 25,
     "metadata": {},
     "output_type": "execute_result"
    }
   ],
   "source": [
    "np.zeros([2,4])"
   ]
  },
  {
   "cell_type": "code",
   "execution_count": 26,
   "id": "76204aa0-1c10-48b8-b7f9-f557742a4deb",
   "metadata": {},
   "outputs": [
    {
     "data": {
      "text/plain": [
       "array([[0., 0., 0., 0.],\n",
       "       [0., 0., 0., 0.],\n",
       "       [0., 0., 0., 0.]])"
      ]
     },
     "execution_count": 26,
     "metadata": {},
     "output_type": "execute_result"
    }
   ],
   "source": [
    "np.zeros([3,4])"
   ]
  },
  {
   "cell_type": "code",
   "execution_count": 27,
   "id": "2cb3892d-0df0-4186-a191-ed5136ac2af1",
   "metadata": {},
   "outputs": [
    {
     "data": {
      "text/plain": [
       "array([[1., 1.],\n",
       "       [1., 1.]])"
      ]
     },
     "execution_count": 27,
     "metadata": {},
     "output_type": "execute_result"
    }
   ],
   "source": [
    "np.ones((2,2))"
   ]
  },
  {
   "cell_type": "code",
   "execution_count": 28,
   "id": "d5b93158-7435-493d-bd01-2f99ffa0f125",
   "metadata": {},
   "outputs": [
    {
     "data": {
      "text/plain": [
       "array([[0., 0., 0., 0., 0., 0., 0., 0., 0., 0.],\n",
       "       [0., 0., 0., 0., 0., 0., 0., 0., 0., 0.],\n",
       "       [0., 0., 0., 0., 0., 0., 0., 0., 0., 0.],\n",
       "       [0., 0., 0., 0., 0., 0., 0., 0., 0., 0.],\n",
       "       [0., 0., 0., 0., 0., 0., 0., 0., 0., 0.],\n",
       "       [0., 0., 0., 0., 0., 0., 0., 0., 0., 0.],\n",
       "       [0., 0., 0., 0., 0., 0., 0., 0., 0., 0.],\n",
       "       [0., 0., 0., 0., 0., 0., 0., 0., 0., 0.],\n",
       "       [0., 0., 0., 0., 0., 0., 0., 0., 0., 0.],\n",
       "       [0., 0., 0., 0., 0., 0., 0., 0., 0., 0.]])"
      ]
     },
     "execution_count": 28,
     "metadata": {},
     "output_type": "execute_result"
    }
   ],
   "source": [
    "z = np.zeros((10,10))\n",
    "z"
   ]
  },
  {
   "cell_type": "code",
   "execution_count": 29,
   "id": "09b2d5b3-9c36-4948-893c-5e43357c16c0",
   "metadata": {},
   "outputs": [
    {
     "data": {
      "text/plain": [
       "array([[1., 1., 1., 1., 1., 1., 1., 1., 1., 1.],\n",
       "       [1., 1., 1., 1., 1., 1., 1., 1., 1., 1.],\n",
       "       [1., 1., 1., 1., 1., 1., 1., 1., 1., 1.],\n",
       "       [1., 1., 1., 1., 1., 1., 1., 1., 1., 1.],\n",
       "       [1., 1., 1., 1., 1., 1., 1., 1., 1., 1.],\n",
       "       [1., 1., 1., 1., 1., 1., 1., 1., 1., 1.],\n",
       "       [1., 1., 1., 1., 1., 1., 1., 1., 1., 1.],\n",
       "       [1., 1., 1., 1., 1., 1., 1., 1., 1., 1.],\n",
       "       [1., 1., 1., 1., 1., 1., 1., 1., 1., 1.],\n",
       "       [1., 1., 1., 1., 1., 1., 1., 1., 1., 1.]])"
      ]
     },
     "execution_count": 29,
     "metadata": {},
     "output_type": "execute_result"
    }
   ],
   "source": [
    "o = np.ones((10,10))\n",
    "o"
   ]
  },
  {
   "cell_type": "code",
   "execution_count": 30,
   "id": "10f063fc-891e-40f7-b3c4-151fc74e759e",
   "metadata": {},
   "outputs": [
    {
     "data": {
      "text/plain": [
       "array([[0., 0., 0., 0., 0., 0., 0., 0., 0., 0.],\n",
       "       [0., 0., 0., 0., 0., 0., 0., 0., 0., 0.],\n",
       "       [0., 0., 0., 0., 0., 0., 0., 0., 0., 0.],\n",
       "       [0., 0., 0., 7., 7., 7., 7., 0., 0., 0.],\n",
       "       [0., 0., 0., 7., 7., 7., 7., 0., 0., 0.],\n",
       "       [0., 0., 0., 7., 7., 7., 7., 0., 0., 0.],\n",
       "       [0., 0., 0., 7., 7., 7., 7., 0., 0., 0.],\n",
       "       [0., 0., 0., 0., 0., 0., 0., 0., 0., 0.],\n",
       "       [0., 0., 0., 0., 0., 0., 0., 0., 0., 0.],\n",
       "       [0., 0., 0., 0., 0., 0., 0., 0., 0., 0.]])"
      ]
     },
     "execution_count": 30,
     "metadata": {},
     "output_type": "execute_result"
    }
   ],
   "source": [
    "z[3:7,3:7]=7\n",
    "z"
   ]
  },
  {
   "cell_type": "code",
   "execution_count": 31,
   "id": "0a324554-a14f-4639-872b-fdc13e6cbc0e",
   "metadata": {},
   "outputs": [
    {
     "data": {
      "text/plain": [
       "array([[0., 0., 0., 0., 0., 0., 0., 0., 0., 0.],\n",
       "       [0., 0., 0., 0., 0., 0., 0., 0., 0., 0.],\n",
       "       [0., 0., 0., 0., 0., 0., 0., 0., 0., 0.],\n",
       "       [0., 0., 0., 7., 7., 7., 7., 0., 0., 0.],\n",
       "       [0., 0., 0., 7., 6., 6., 7., 0., 0., 0.],\n",
       "       [0., 0., 0., 7., 6., 6., 7., 0., 0., 0.],\n",
       "       [0., 0., 0., 7., 7., 7., 7., 0., 0., 0.],\n",
       "       [0., 0., 0., 0., 0., 0., 0., 0., 0., 0.],\n",
       "       [0., 0., 0., 0., 0., 0., 0., 0., 0., 0.],\n",
       "       [0., 0., 0., 0., 0., 0., 0., 0., 0., 0.]])"
      ]
     },
     "execution_count": 31,
     "metadata": {},
     "output_type": "execute_result"
    }
   ],
   "source": [
    "z[4:6,4:6]=6\n",
    "z"
   ]
  },
  {
   "cell_type": "code",
   "execution_count": 32,
   "id": "34ae0e54-aaa4-42d6-b039-062d5ecb06e9",
   "metadata": {},
   "outputs": [
    {
     "data": {
      "text/plain": [
       "array([[3.14, 3.14, 3.14],\n",
       "       [3.14, 3.14, 3.14],\n",
       "       [3.14, 3.14, 3.14]])"
      ]
     },
     "execution_count": 32,
     "metadata": {},
     "output_type": "execute_result"
    }
   ],
   "source": [
    "arr8 = np.full((3,3),3.14)\n",
    "arr8"
   ]
  },
  {
   "cell_type": "raw",
   "id": "737cb1b8-dbc4-48a7-ade6-65cbf08df05a",
   "metadata": {},
   "source": [
    "arr6 = np.ones((3,3))\n",
    "arr6[:]=3.14\n",
    "arr6"
   ]
  },
  {
   "cell_type": "markdown",
   "id": "8164d7dd-9901-4bd2-bdd0-dbf1124ffbd2",
   "metadata": {},
   "source": [
    "# eye() function for identity matrix"
   ]
  },
  {
   "cell_type": "code",
   "execution_count": 33,
   "id": "0e9c3239-695c-492e-9bbd-255f9e515a26",
   "metadata": {},
   "outputs": [
    {
     "data": {
      "text/plain": [
       "\u001b[1;31mSignature:\u001b[0m\n",
       "\u001b[0mnp\u001b[0m\u001b[1;33m.\u001b[0m\u001b[0meye\u001b[0m\u001b[1;33m(\u001b[0m\u001b[1;33m\n",
       "\u001b[0m    \u001b[0mN\u001b[0m\u001b[1;33m,\u001b[0m\u001b[1;33m\n",
       "\u001b[0m    \u001b[0mM\u001b[0m\u001b[1;33m=\u001b[0m\u001b[1;32mNone\u001b[0m\u001b[1;33m,\u001b[0m\u001b[1;33m\n",
       "\u001b[0m    \u001b[0mk\u001b[0m\u001b[1;33m=\u001b[0m\u001b[1;36m0\u001b[0m\u001b[1;33m,\u001b[0m\u001b[1;33m\n",
       "\u001b[0m    \u001b[0mdtype\u001b[0m\u001b[1;33m=\u001b[0m\u001b[1;33m<\u001b[0m\u001b[1;32mclass\u001b[0m \u001b[1;34m'float'\u001b[0m\u001b[1;33m>\u001b[0m\u001b[1;33m,\u001b[0m\u001b[1;33m\n",
       "\u001b[0m    \u001b[0morder\u001b[0m\u001b[1;33m=\u001b[0m\u001b[1;34m'C'\u001b[0m\u001b[1;33m,\u001b[0m\u001b[1;33m\n",
       "\u001b[0m    \u001b[1;33m*\u001b[0m\u001b[1;33m,\u001b[0m\u001b[1;33m\n",
       "\u001b[0m    \u001b[0mdevice\u001b[0m\u001b[1;33m=\u001b[0m\u001b[1;32mNone\u001b[0m\u001b[1;33m,\u001b[0m\u001b[1;33m\n",
       "\u001b[0m    \u001b[0mlike\u001b[0m\u001b[1;33m=\u001b[0m\u001b[1;32mNone\u001b[0m\u001b[1;33m,\u001b[0m\u001b[1;33m\n",
       "\u001b[0m\u001b[1;33m)\u001b[0m\u001b[1;33m\u001b[0m\u001b[1;33m\u001b[0m\u001b[0m\n",
       "\u001b[1;31mDocstring:\u001b[0m\n",
       "Return a 2-D array with ones on the diagonal and zeros elsewhere.\n",
       "\n",
       "Parameters\n",
       "----------\n",
       "N : int\n",
       "  Number of rows in the output.\n",
       "M : int, optional\n",
       "  Number of columns in the output. If None, defaults to `N`.\n",
       "k : int, optional\n",
       "  Index of the diagonal: 0 (the default) refers to the main diagonal,\n",
       "  a positive value refers to an upper diagonal, and a negative value\n",
       "  to a lower diagonal.\n",
       "dtype : data-type, optional\n",
       "  Data-type of the returned array.\n",
       "order : {'C', 'F'}, optional\n",
       "    Whether the output should be stored in row-major (C-style) or\n",
       "    column-major (Fortran-style) order in memory.\n",
       "\n",
       "    .. versionadded:: 1.14.0\n",
       "device : str, optional\n",
       "    The device on which to place the created array. Default: None.\n",
       "    For Array-API interoperability only, so must be ``\"cpu\"`` if passed.\n",
       "\n",
       "    .. versionadded:: 2.0.0\n",
       "like : array_like, optional\n",
       "    Reference object to allow the creation of arrays which are not\n",
       "    NumPy arrays. If an array-like passed in as ``like`` supports\n",
       "    the ``__array_function__`` protocol, the result will be defined\n",
       "    by it. In this case, it ensures the creation of an array object\n",
       "    compatible with that passed in via this argument.\n",
       "\n",
       "    .. versionadded:: 1.20.0\n",
       "\n",
       "Returns\n",
       "-------\n",
       "I : ndarray of shape (N,M)\n",
       "  An array where all elements are equal to zero, except for the `k`-th\n",
       "  diagonal, whose values are equal to one.\n",
       "\n",
       "See Also\n",
       "--------\n",
       "identity : (almost) equivalent function\n",
       "diag : diagonal 2-D array from a 1-D array specified by the user.\n",
       "\n",
       "Examples\n",
       "--------\n",
       ">>> np.eye(2, dtype=int)\n",
       "array([[1, 0],\n",
       "       [0, 1]])\n",
       ">>> np.eye(3, k=1)\n",
       "array([[0.,  1.,  0.],\n",
       "       [0.,  0.,  1.],\n",
       "       [0.,  0.,  0.]])\n",
       "\u001b[1;31mFile:\u001b[0m      c:\\users\\ayush\\appdata\\local\\programs\\python\\python312\\lib\\site-packages\\numpy\\lib\\_twodim_base_impl.py\n",
       "\u001b[1;31mType:\u001b[0m      function"
      ]
     },
     "metadata": {},
     "output_type": "display_data"
    }
   ],
   "source": [
    "np.eye?"
   ]
  },
  {
   "cell_type": "code",
   "execution_count": 135,
   "id": "dfe9a68a-e1a5-4805-9c0a-abd3ec53d7dd",
   "metadata": {},
   "outputs": [
    {
     "data": {
      "text/plain": [
       "array([[1., 0., 0., 0., 0., 0., 0., 0.],\n",
       "       [0., 1., 0., 0., 0., 0., 0., 0.],\n",
       "       [0., 0., 1., 0., 0., 0., 0., 0.],\n",
       "       [0., 0., 0., 1., 0., 0., 0., 0.],\n",
       "       [0., 0., 0., 0., 1., 0., 0., 0.],\n",
       "       [0., 0., 0., 0., 0., 1., 0., 0.],\n",
       "       [0., 0., 0., 0., 0., 0., 1., 0.],\n",
       "       [0., 0., 0., 0., 0., 0., 0., 1.]])"
      ]
     },
     "execution_count": 135,
     "metadata": {},
     "output_type": "execute_result"
    }
   ],
   "source": [
    "np.eye(8)"
   ]
  },
  {
   "cell_type": "code",
   "execution_count": 35,
   "id": "68919597-0b3d-47af-9731-598d3d6efa7a",
   "metadata": {},
   "outputs": [
    {
     "data": {
      "text/plain": [
       "array([[1., 0., 0., 0., 0., 0., 0., 0.],\n",
       "       [0., 1., 0., 0., 0., 0., 0., 0.],\n",
       "       [0., 0., 1., 0., 0., 0., 0., 0.],\n",
       "       [0., 0., 0., 1., 0., 0., 0., 0.],\n",
       "       [0., 0., 0., 0., 1., 0., 0., 0.],\n",
       "       [0., 0., 0., 0., 0., 1., 0., 0.],\n",
       "       [0., 0., 0., 0., 0., 0., 1., 0.],\n",
       "       [0., 0., 0., 0., 0., 0., 0., 1.]])"
      ]
     },
     "execution_count": 35,
     "metadata": {},
     "output_type": "execute_result"
    }
   ],
   "source": [
    "np.transpose(np.eye(8))"
   ]
  },
  {
   "cell_type": "code",
   "execution_count": 36,
   "id": "01cd602f-7b78-4026-97a2-ffa880ec2266",
   "metadata": {},
   "outputs": [
    {
     "data": {
      "text/plain": [
       "array([[64, 64, 64, 64, 64, 64],\n",
       "       [64, 64, 64, 64, 64, 64],\n",
       "       [64, 64, 64, 64, 64, 64],\n",
       "       [64, 64, 64, 64, 64, 64],\n",
       "       [64, 64, 64, 64, 64, 64],\n",
       "       [64, 64, 64, 64, 64, 64]])"
      ]
     },
     "execution_count": 36,
     "metadata": {},
     "output_type": "execute_result"
    }
   ],
   "source": [
    "arr9=np.full((6,6),64)\n",
    "arr9"
   ]
  },
  {
   "cell_type": "markdown",
   "id": "db088160-76ac-44fc-9026-940645d665fc",
   "metadata": {},
   "source": [
    "Linspace - Linearly spaced elements"
   ]
  },
  {
   "cell_type": "code",
   "execution_count": 37,
   "id": "45ee99dd-f881-4cba-90d7-c1c7fb30b844",
   "metadata": {},
   "outputs": [
    {
     "data": {
      "text/plain": [
       "array([0.  , 0.25, 0.5 , 0.75, 1.  ])"
      ]
     },
     "execution_count": 37,
     "metadata": {},
     "output_type": "execute_result"
    }
   ],
   "source": [
    "np.linspace(0,1,5) # starting value,ending value,number of times"
   ]
  },
  {
   "cell_type": "code",
   "execution_count": 38,
   "id": "05d4eb53-af24-4665-9f41-a9b674807962",
   "metadata": {},
   "outputs": [
    {
     "data": {
      "text/plain": [
       "array([ 0. ,  2.5,  5. ,  7.5, 10. ])"
      ]
     },
     "execution_count": 38,
     "metadata": {},
     "output_type": "execute_result"
    }
   ],
   "source": [
    "np.linspace(0,10,5)"
   ]
  },
  {
   "cell_type": "code",
   "execution_count": 39,
   "id": "6896771a-198e-4331-8f35-a9e79ce43407",
   "metadata": {},
   "outputs": [
    {
     "data": {
      "text/plain": [
       "\u001b[1;31mSignature:\u001b[0m      \n",
       "\u001b[0mnp\u001b[0m\u001b[1;33m.\u001b[0m\u001b[0mlinspace\u001b[0m\u001b[1;33m(\u001b[0m\u001b[1;33m\n",
       "\u001b[0m    \u001b[0mstart\u001b[0m\u001b[1;33m,\u001b[0m\u001b[1;33m\n",
       "\u001b[0m    \u001b[0mstop\u001b[0m\u001b[1;33m,\u001b[0m\u001b[1;33m\n",
       "\u001b[0m    \u001b[0mnum\u001b[0m\u001b[1;33m=\u001b[0m\u001b[1;36m50\u001b[0m\u001b[1;33m,\u001b[0m\u001b[1;33m\n",
       "\u001b[0m    \u001b[0mendpoint\u001b[0m\u001b[1;33m=\u001b[0m\u001b[1;32mTrue\u001b[0m\u001b[1;33m,\u001b[0m\u001b[1;33m\n",
       "\u001b[0m    \u001b[0mretstep\u001b[0m\u001b[1;33m=\u001b[0m\u001b[1;32mFalse\u001b[0m\u001b[1;33m,\u001b[0m\u001b[1;33m\n",
       "\u001b[0m    \u001b[0mdtype\u001b[0m\u001b[1;33m=\u001b[0m\u001b[1;32mNone\u001b[0m\u001b[1;33m,\u001b[0m\u001b[1;33m\n",
       "\u001b[0m    \u001b[0maxis\u001b[0m\u001b[1;33m=\u001b[0m\u001b[1;36m0\u001b[0m\u001b[1;33m,\u001b[0m\u001b[1;33m\n",
       "\u001b[0m    \u001b[1;33m*\u001b[0m\u001b[1;33m,\u001b[0m\u001b[1;33m\n",
       "\u001b[0m    \u001b[0mdevice\u001b[0m\u001b[1;33m=\u001b[0m\u001b[1;32mNone\u001b[0m\u001b[1;33m,\u001b[0m\u001b[1;33m\n",
       "\u001b[0m\u001b[1;33m)\u001b[0m\u001b[1;33m\u001b[0m\u001b[1;33m\u001b[0m\u001b[0m\n",
       "\u001b[1;31mCall signature:\u001b[0m  \u001b[0mnp\u001b[0m\u001b[1;33m.\u001b[0m\u001b[0mlinspace\u001b[0m\u001b[1;33m(\u001b[0m\u001b[1;33m*\u001b[0m\u001b[0margs\u001b[0m\u001b[1;33m,\u001b[0m \u001b[1;33m**\u001b[0m\u001b[0mkwargs\u001b[0m\u001b[1;33m)\u001b[0m\u001b[1;33m\u001b[0m\u001b[1;33m\u001b[0m\u001b[0m\n",
       "\u001b[1;31mType:\u001b[0m            _ArrayFunctionDispatcher\n",
       "\u001b[1;31mString form:\u001b[0m     <function linspace at 0x0000016132924540>\n",
       "\u001b[1;31mFile:\u001b[0m            c:\\users\\ayush\\appdata\\local\\programs\\python\\python312\\lib\\site-packages\\numpy\\_core\\function_base.py\n",
       "\u001b[1;31mDocstring:\u001b[0m      \n",
       "Return evenly spaced numbers over a specified interval.\n",
       "\n",
       "Returns `num` evenly spaced samples, calculated over the\n",
       "interval [`start`, `stop`].\n",
       "\n",
       "The endpoint of the interval can optionally be excluded.\n",
       "\n",
       ".. versionchanged:: 1.16.0\n",
       "    Non-scalar `start` and `stop` are now supported.\n",
       "\n",
       ".. versionchanged:: 1.20.0\n",
       "    Values are rounded towards ``-inf`` instead of ``0`` when an\n",
       "    integer ``dtype`` is specified. The old behavior can\n",
       "    still be obtained with ``np.linspace(start, stop, num).astype(int)``\n",
       "\n",
       "Parameters\n",
       "----------\n",
       "start : array_like\n",
       "    The starting value of the sequence.\n",
       "stop : array_like\n",
       "    The end value of the sequence, unless `endpoint` is set to False.\n",
       "    In that case, the sequence consists of all but the last of ``num + 1``\n",
       "    evenly spaced samples, so that `stop` is excluded.  Note that the step\n",
       "    size changes when `endpoint` is False.\n",
       "num : int, optional\n",
       "    Number of samples to generate. Default is 50. Must be non-negative.\n",
       "endpoint : bool, optional\n",
       "    If True, `stop` is the last sample. Otherwise, it is not included.\n",
       "    Default is True.\n",
       "retstep : bool, optional\n",
       "    If True, return (`samples`, `step`), where `step` is the spacing\n",
       "    between samples.\n",
       "dtype : dtype, optional\n",
       "    The type of the output array.  If `dtype` is not given, the data type\n",
       "    is inferred from `start` and `stop`. The inferred dtype will never be\n",
       "    an integer; `float` is chosen even if the arguments would produce an\n",
       "    array of integers.\n",
       "\n",
       "    .. versionadded:: 1.9.0\n",
       "axis : int, optional\n",
       "    The axis in the result to store the samples.  Relevant only if start\n",
       "    or stop are array-like.  By default (0), the samples will be along a\n",
       "    new axis inserted at the beginning. Use -1 to get an axis at the end.\n",
       "\n",
       "    .. versionadded:: 1.16.0\n",
       "device : str, optional\n",
       "    The device on which to place the created array. Default: None.\n",
       "    For Array-API interoperability only, so must be ``\"cpu\"`` if passed.\n",
       "\n",
       "    .. versionadded:: 2.0.0\n",
       "\n",
       "Returns\n",
       "-------\n",
       "samples : ndarray\n",
       "    There are `num` equally spaced samples in the closed interval\n",
       "    ``[start, stop]`` or the half-open interval ``[start, stop)``\n",
       "    (depending on whether `endpoint` is True or False).\n",
       "step : float, optional\n",
       "    Only returned if `retstep` is True\n",
       "\n",
       "    Size of spacing between samples.\n",
       "\n",
       "\n",
       "See Also\n",
       "--------\n",
       "arange : Similar to `linspace`, but uses a step size (instead of the\n",
       "         number of samples).\n",
       "geomspace : Similar to `linspace`, but with numbers spaced evenly on a log\n",
       "            scale (a geometric progression).\n",
       "logspace : Similar to `geomspace`, but with the end points specified as\n",
       "           logarithms.\n",
       ":ref:`how-to-partition`\n",
       "\n",
       "Examples\n",
       "--------\n",
       ">>> np.linspace(2.0, 3.0, num=5)\n",
       "array([2.  , 2.25, 2.5 , 2.75, 3.  ])\n",
       ">>> np.linspace(2.0, 3.0, num=5, endpoint=False)\n",
       "array([2. ,  2.2,  2.4,  2.6,  2.8])\n",
       ">>> np.linspace(2.0, 3.0, num=5, retstep=True)\n",
       "(array([2.  ,  2.25,  2.5 ,  2.75,  3.  ]), 0.25)\n",
       "\n",
       "Graphical illustration:\n",
       "\n",
       ">>> import matplotlib.pyplot as plt\n",
       ">>> N = 8\n",
       ">>> y = np.zeros(N)\n",
       ">>> x1 = np.linspace(0, 10, N, endpoint=True)\n",
       ">>> x2 = np.linspace(0, 10, N, endpoint=False)\n",
       ">>> plt.plot(x1, y, 'o')\n",
       "[<matplotlib.lines.Line2D object at 0x...>]\n",
       ">>> plt.plot(x2, y + 0.5, 'o')\n",
       "[<matplotlib.lines.Line2D object at 0x...>]\n",
       ">>> plt.ylim([-0.5, 1])\n",
       "(-0.5, 1)\n",
       ">>> plt.show()\n",
       "\u001b[1;31mClass docstring:\u001b[0m\n",
       "Class to wrap functions with checks for __array_function__ overrides.\n",
       "\n",
       "All arguments are required, and can only be passed by position.\n",
       "\n",
       "Parameters\n",
       "----------\n",
       "dispatcher : function or None\n",
       "    The dispatcher function that returns a single sequence-like object\n",
       "    of all arguments relevant.  It must have the same signature (except\n",
       "    the default values) as the actual implementation.\n",
       "    If ``None``, this is a ``like=`` dispatcher and the\n",
       "    ``_ArrayFunctionDispatcher`` must be called with ``like`` as the\n",
       "    first (additional and positional) argument.\n",
       "implementation : function\n",
       "    Function that implements the operation on NumPy arrays without\n",
       "    overrides.  Arguments passed calling the ``_ArrayFunctionDispatcher``\n",
       "    will be forwarded to this (and the ``dispatcher``) as if using\n",
       "    ``*args, **kwargs``.\n",
       "\n",
       "Attributes\n",
       "----------\n",
       "_implementation : function\n",
       "    The original implementation passed in."
      ]
     },
     "metadata": {},
     "output_type": "display_data"
    }
   ],
   "source": [
    "np.linspace?"
   ]
  },
  {
   "cell_type": "code",
   "execution_count": 40,
   "id": "a6db59cf-3d82-45eb-88af-e35d66c8623e",
   "metadata": {},
   "outputs": [
    {
     "data": {
      "text/plain": [
       "array([15.        , 15.26315789, 15.52631579, 15.78947368, 16.05263158,\n",
       "       16.31578947, 16.57894737, 16.84210526, 17.10526316, 17.36842105,\n",
       "       17.63157895, 17.89473684, 18.15789474, 18.42105263, 18.68421053,\n",
       "       18.94736842, 19.21052632, 19.47368421, 19.73684211, 20.        ])"
      ]
     },
     "execution_count": 40,
     "metadata": {},
     "output_type": "execute_result"
    }
   ],
   "source": [
    "np.linspace(15,20,20)"
   ]
  },
  {
   "cell_type": "markdown",
   "id": "781d8f78-0997-4f08-bcda-529c4dae88fc",
   "metadata": {},
   "source": [
    "Random Function\n",
    "# btw 0 to 1"
   ]
  },
  {
   "cell_type": "code",
   "execution_count": 41,
   "id": "a8ed264f-f8f5-4e27-84f1-55c7c77b131d",
   "metadata": {},
   "outputs": [
    {
     "data": {
      "text/plain": [
       "\u001b[1;31mType:\u001b[0m        module\n",
       "\u001b[1;31mString form:\u001b[0m <module 'numpy.random' from 'C:\\\\Users\\\\Ayush\\\\AppData\\\\Local\\\\Programs\\\\Python\\\\Python312\\\\Lib\\\\site-packages\\\\numpy\\\\random\\\\__init__.py'>\n",
       "\u001b[1;31mFile:\u001b[0m        c:\\users\\ayush\\appdata\\local\\programs\\python\\python312\\lib\\site-packages\\numpy\\random\\__init__.py\n",
       "\u001b[1;31mDocstring:\u001b[0m  \n",
       "========================\n",
       "Random Number Generation\n",
       "========================\n",
       "\n",
       "Use ``default_rng()`` to create a `Generator` and call its methods.\n",
       "\n",
       "=============== =========================================================\n",
       "Generator\n",
       "--------------- ---------------------------------------------------------\n",
       "Generator       Class implementing all of the random number distributions\n",
       "default_rng     Default constructor for ``Generator``\n",
       "=============== =========================================================\n",
       "\n",
       "============================================= ===\n",
       "BitGenerator Streams that work with Generator\n",
       "--------------------------------------------- ---\n",
       "MT19937\n",
       "PCG64\n",
       "PCG64DXSM\n",
       "Philox\n",
       "SFC64\n",
       "============================================= ===\n",
       "\n",
       "============================================= ===\n",
       "Getting entropy to initialize a BitGenerator\n",
       "--------------------------------------------- ---\n",
       "SeedSequence\n",
       "============================================= ===\n",
       "\n",
       "\n",
       "Legacy\n",
       "------\n",
       "\n",
       "For backwards compatibility with previous versions of numpy before 1.17, the\n",
       "various aliases to the global `RandomState` methods are left alone and do not\n",
       "use the new `Generator` API.\n",
       "\n",
       "==================== =========================================================\n",
       "Utility functions\n",
       "-------------------- ---------------------------------------------------------\n",
       "random               Uniformly distributed floats over ``[0, 1)``\n",
       "bytes                Uniformly distributed random bytes.\n",
       "permutation          Randomly permute a sequence / generate a random sequence.\n",
       "shuffle              Randomly permute a sequence in place.\n",
       "choice               Random sample from 1-D array.\n",
       "==================== =========================================================\n",
       "\n",
       "==================== =========================================================\n",
       "Compatibility\n",
       "functions - removed\n",
       "in the new API\n",
       "-------------------- ---------------------------------------------------------\n",
       "rand                 Uniformly distributed values.\n",
       "randn                Normally distributed values.\n",
       "ranf                 Uniformly distributed floating point numbers.\n",
       "random_integers      Uniformly distributed integers in a given range.\n",
       "                     (deprecated, use ``integers(..., closed=True)`` instead)\n",
       "random_sample        Alias for `random_sample`\n",
       "randint              Uniformly distributed integers in a given range\n",
       "seed                 Seed the legacy random number generator.\n",
       "==================== =========================================================\n",
       "\n",
       "==================== =========================================================\n",
       "Univariate\n",
       "distributions\n",
       "-------------------- ---------------------------------------------------------\n",
       "beta                 Beta distribution over ``[0, 1]``.\n",
       "binomial             Binomial distribution.\n",
       "chisquare            :math:`\\chi^2` distribution.\n",
       "exponential          Exponential distribution.\n",
       "f                    F (Fisher-Snedecor) distribution.\n",
       "gamma                Gamma distribution.\n",
       "geometric            Geometric distribution.\n",
       "gumbel               Gumbel distribution.\n",
       "hypergeometric       Hypergeometric distribution.\n",
       "laplace              Laplace distribution.\n",
       "logistic             Logistic distribution.\n",
       "lognormal            Log-normal distribution.\n",
       "logseries            Logarithmic series distribution.\n",
       "negative_binomial    Negative binomial distribution.\n",
       "noncentral_chisquare Non-central chi-square distribution.\n",
       "noncentral_f         Non-central F distribution.\n",
       "normal               Normal / Gaussian distribution.\n",
       "pareto               Pareto distribution.\n",
       "poisson              Poisson distribution.\n",
       "power                Power distribution.\n",
       "rayleigh             Rayleigh distribution.\n",
       "triangular           Triangular distribution.\n",
       "uniform              Uniform distribution.\n",
       "vonmises             Von Mises circular distribution.\n",
       "wald                 Wald (inverse Gaussian) distribution.\n",
       "weibull              Weibull distribution.\n",
       "zipf                 Zipf's distribution over ranked data.\n",
       "==================== =========================================================\n",
       "\n",
       "==================== ==========================================================\n",
       "Multivariate\n",
       "distributions\n",
       "-------------------- ----------------------------------------------------------\n",
       "dirichlet            Multivariate generalization of Beta distribution.\n",
       "multinomial          Multivariate generalization of the binomial distribution.\n",
       "multivariate_normal  Multivariate generalization of the normal distribution.\n",
       "==================== ==========================================================\n",
       "\n",
       "==================== =========================================================\n",
       "Standard\n",
       "distributions\n",
       "-------------------- ---------------------------------------------------------\n",
       "standard_cauchy      Standard Cauchy-Lorentz distribution.\n",
       "standard_exponential Standard exponential distribution.\n",
       "standard_gamma       Standard Gamma distribution.\n",
       "standard_normal      Standard normal distribution.\n",
       "standard_t           Standard Student's t-distribution.\n",
       "==================== =========================================================\n",
       "\n",
       "==================== =========================================================\n",
       "Internal functions\n",
       "-------------------- ---------------------------------------------------------\n",
       "get_state            Get tuple representing internal state of generator.\n",
       "set_state            Set state of generator.\n",
       "==================== ========================================================="
      ]
     },
     "metadata": {},
     "output_type": "display_data"
    }
   ],
   "source": [
    "np.random?"
   ]
  },
  {
   "cell_type": "code",
   "execution_count": 42,
   "id": "e768ea1a-0b59-4aa1-a868-3f7ddaf72b34",
   "metadata": {},
   "outputs": [
    {
     "data": {
      "text/plain": [
       "array([[0.39368334, 0.80018422, 0.29137476],\n",
       "       [0.03468805, 0.34219603, 0.94256393],\n",
       "       [0.62905582, 0.3686176 , 0.94212965]])"
      ]
     },
     "execution_count": 42,
     "metadata": {},
     "output_type": "execute_result"
    }
   ],
   "source": [
    "np.random.random((3,3))"
   ]
  },
  {
   "cell_type": "markdown",
   "id": "692eaff7-53aa-40fb-8b7f-6327bff4b530",
   "metadata": {},
   "source": [
    "Normal Function - \n",
    "value with mean 0 to 1"
   ]
  },
  {
   "cell_type": "code",
   "execution_count": 43,
   "id": "c8b3ba04-0872-4f16-b38d-49c6758bb3aa",
   "metadata": {},
   "outputs": [
    {
     "data": {
      "text/plain": [
       "\u001b[1;31mSignature:\u001b[0m \u001b[0mnp\u001b[0m\u001b[1;33m.\u001b[0m\u001b[0mrandom\u001b[0m\u001b[1;33m.\u001b[0m\u001b[0mnormal\u001b[0m\u001b[1;33m(\u001b[0m\u001b[0mloc\u001b[0m\u001b[1;33m=\u001b[0m\u001b[1;36m0.0\u001b[0m\u001b[1;33m,\u001b[0m \u001b[0mscale\u001b[0m\u001b[1;33m=\u001b[0m\u001b[1;36m1.0\u001b[0m\u001b[1;33m,\u001b[0m \u001b[0msize\u001b[0m\u001b[1;33m=\u001b[0m\u001b[1;32mNone\u001b[0m\u001b[1;33m)\u001b[0m\u001b[1;33m\u001b[0m\u001b[1;33m\u001b[0m\u001b[0m\n",
       "\u001b[1;31mDocstring:\u001b[0m\n",
       "normal(loc=0.0, scale=1.0, size=None)\n",
       "\n",
       "Draw random samples from a normal (Gaussian) distribution.\n",
       "\n",
       "The probability density function of the normal distribution, first\n",
       "derived by De Moivre and 200 years later by both Gauss and Laplace\n",
       "independently [2]_, is often called the bell curve because of\n",
       "its characteristic shape (see the example below).\n",
       "\n",
       "The normal distributions occurs often in nature.  For example, it\n",
       "describes the commonly occurring distribution of samples influenced\n",
       "by a large number of tiny, random disturbances, each with its own\n",
       "unique distribution [2]_.\n",
       "\n",
       ".. note::\n",
       "    New code should use the `~numpy.random.Generator.normal`\n",
       "    method of a `~numpy.random.Generator` instance instead;\n",
       "    please see the :ref:`random-quick-start`.\n",
       "\n",
       "Parameters\n",
       "----------\n",
       "loc : float or array_like of floats\n",
       "    Mean (\"centre\") of the distribution.\n",
       "scale : float or array_like of floats\n",
       "    Standard deviation (spread or \"width\") of the distribution. Must be\n",
       "    non-negative.\n",
       "size : int or tuple of ints, optional\n",
       "    Output shape.  If the given shape is, e.g., ``(m, n, k)``, then\n",
       "    ``m * n * k`` samples are drawn.  If size is ``None`` (default),\n",
       "    a single value is returned if ``loc`` and ``scale`` are both scalars.\n",
       "    Otherwise, ``np.broadcast(loc, scale).size`` samples are drawn.\n",
       "\n",
       "Returns\n",
       "-------\n",
       "out : ndarray or scalar\n",
       "    Drawn samples from the parameterized normal distribution.\n",
       "\n",
       "See Also\n",
       "--------\n",
       "scipy.stats.norm : probability density function, distribution or\n",
       "    cumulative density function, etc.\n",
       "random.Generator.normal: which should be used for new code.\n",
       "\n",
       "Notes\n",
       "-----\n",
       "The probability density for the Gaussian distribution is\n",
       "\n",
       ".. math:: p(x) = \\frac{1}{\\sqrt{ 2 \\pi \\sigma^2 }}\n",
       "                 e^{ - \\frac{ (x - \\mu)^2 } {2 \\sigma^2} },\n",
       "\n",
       "where :math:`\\mu` is the mean and :math:`\\sigma` the standard\n",
       "deviation. The square of the standard deviation, :math:`\\sigma^2`,\n",
       "is called the variance.\n",
       "\n",
       "The function has its peak at the mean, and its \"spread\" increases with\n",
       "the standard deviation (the function reaches 0.607 times its maximum at\n",
       ":math:`x + \\sigma` and :math:`x - \\sigma` [2]_).  This implies that\n",
       "normal is more likely to return samples lying close to the mean, rather\n",
       "than those far away.\n",
       "\n",
       "References\n",
       "----------\n",
       ".. [1] Wikipedia, \"Normal distribution\",\n",
       "       https://en.wikipedia.org/wiki/Normal_distribution\n",
       ".. [2] P. R. Peebles Jr., \"Central Limit Theorem\" in \"Probability,\n",
       "       Random Variables and Random Signal Principles\", 4th ed., 2001,\n",
       "       pp. 51, 51, 125.\n",
       "\n",
       "Examples\n",
       "--------\n",
       "Draw samples from the distribution:\n",
       "\n",
       ">>> mu, sigma = 0, 0.1 # mean and standard deviation\n",
       ">>> s = np.random.normal(mu, sigma, 1000)\n",
       "\n",
       "Verify the mean and the variance:\n",
       "\n",
       ">>> abs(mu - np.mean(s))\n",
       "0.0  # may vary\n",
       "\n",
       ">>> abs(sigma - np.std(s, ddof=1))\n",
       "0.1  # may vary\n",
       "\n",
       "Display the histogram of the samples, along with\n",
       "the probability density function:\n",
       "\n",
       ">>> import matplotlib.pyplot as plt\n",
       ">>> count, bins, ignored = plt.hist(s, 30, density=True)\n",
       ">>> plt.plot(bins, 1/(sigma * np.sqrt(2 * np.pi)) *\n",
       "...                np.exp( - (bins - mu)**2 / (2 * sigma**2) ),\n",
       "...          linewidth=2, color='r')\n",
       ">>> plt.show()\n",
       "\n",
       "Two-by-four array of samples from the normal distribution with\n",
       "mean 3 and standard deviation 2.5:\n",
       "\n",
       ">>> np.random.normal(3, 2.5, size=(2, 4))\n",
       "array([[-4.49401501,  4.00950034, -1.81814867,  7.29718677],   # random\n",
       "       [ 0.39924804,  4.68456316,  4.99394529,  4.84057254]])  # random\n",
       "\u001b[1;31mType:\u001b[0m      method"
      ]
     },
     "metadata": {},
     "output_type": "display_data"
    }
   ],
   "source": [
    "np.random.normal?"
   ]
  },
  {
   "cell_type": "code",
   "execution_count": 44,
   "id": "865a0097-3c4f-4ff4-8acb-5aa6130360cf",
   "metadata": {},
   "outputs": [
    {
     "data": {
      "text/plain": [
       "array([ 0.26534832,  1.44036028,  0.20450069, -0.32160418, -1.33886616,\n",
       "       -1.54878511,  0.19397755,  0.33840891,  1.01327315, -1.08991136])"
      ]
     },
     "execution_count": 44,
     "metadata": {},
     "output_type": "execute_result"
    }
   ],
   "source": [
    "np.random.normal(0,1,10)"
   ]
  },
  {
   "cell_type": "code",
   "execution_count": 45,
   "id": "1fc208b2-5f81-4a91-9216-724919c16b8e",
   "metadata": {},
   "outputs": [
    {
     "data": {
      "text/plain": [
       "array([-0.04250269, -0.201851  ,  3.87530488,  4.350545  ,  1.60518093,\n",
       "        5.51427408,  1.43918719,  0.403754  , -2.83757318,  1.94030972])"
      ]
     },
     "execution_count": 45,
     "metadata": {},
     "output_type": "execute_result"
    }
   ],
   "source": [
    "np.random.normal(2,2,10)"
   ]
  },
  {
   "cell_type": "markdown",
   "id": "fcc702da-4f48-4fa7-b77a-796a8518245f",
   "metadata": {},
   "source": [
    "Seed Function\n",
    "in this random values will not change"
   ]
  },
  {
   "cell_type": "code",
   "execution_count": 46,
   "id": "8837c2e8-a65f-450b-9115-ab07ae20a7d7",
   "metadata": {},
   "outputs": [
    {
     "data": {
      "text/plain": [
       "array([0.22199317, 0.87073231, 0.20671916, 0.91861091, 0.48841119,\n",
       "       0.61174386, 0.76590786, 0.51841799, 0.2968005 , 0.18772123])"
      ]
     },
     "execution_count": 46,
     "metadata": {},
     "output_type": "execute_result"
    }
   ],
   "source": [
    "np.random.seed(5)\n",
    "np.random.random(10)"
   ]
  },
  {
   "cell_type": "code",
   "execution_count": 131,
   "id": "d10b51c9-f10c-4a64-9658-1b25a18ec14f",
   "metadata": {},
   "outputs": [
    {
     "data": {
      "text/plain": [
       "<bound method RandomState.randn of RandomState(MT19937) at 0x16132AC4A40>"
      ]
     },
     "execution_count": 131,
     "metadata": {},
     "output_type": "execute_result"
    }
   ],
   "source": [
    "np.random.randn?"
   ]
  },
  {
   "cell_type": "code",
   "execution_count": 48,
   "id": "47bdea91-7aa0-470c-aff7-60f94870d7c6",
   "metadata": {},
   "outputs": [
    {
     "data": {
      "text/plain": [
       "array([[ 0.18760323, -0.32986996, -1.19276461, -0.20487651],\n",
       "       [-0.35882895,  0.6034716 , -1.66478853, -0.70017904]])"
      ]
     },
     "execution_count": 48,
     "metadata": {},
     "output_type": "execute_result"
    }
   ],
   "source": [
    "np.random.randn(2,4)"
   ]
  },
  {
   "cell_type": "markdown",
   "id": "b92aaee7-085a-40cb-9560-956727618899",
   "metadata": {},
   "source": [
    "Operation on Numpy"
   ]
  },
  {
   "cell_type": "code",
   "execution_count": 49,
   "id": "68204e5d-10ab-47cd-8efc-a94a97e31863",
   "metadata": {},
   "outputs": [
    {
     "data": {
      "text/plain": [
       "array([ 9, 41, 62,  1, 82, 16, 78,  5, 58,  0, 80,  4, 36, 51, 27, 31,  2,\n",
       "       68, 38, 83], dtype=int32)"
      ]
     },
     "execution_count": 49,
     "metadata": {},
     "output_type": "execute_result"
    }
   ],
   "source": [
    "arr1=np.random.randint(0,100,20)\n",
    "arr1"
   ]
  },
  {
   "cell_type": "code",
   "execution_count": 50,
   "id": "dabc7f44-694b-4928-adc8-53a9e8dbc97f",
   "metadata": {},
   "outputs": [
    {
     "data": {
      "text/plain": [
       "1"
      ]
     },
     "execution_count": 50,
     "metadata": {},
     "output_type": "execute_result"
    }
   ],
   "source": [
    "arr1.ndim  # To check number of dimension"
   ]
  },
  {
   "cell_type": "code",
   "execution_count": 51,
   "id": "bb6e4d88-dab1-4360-90c1-06fbba2cad46",
   "metadata": {},
   "outputs": [
    {
     "data": {
      "text/plain": [
       "20"
      ]
     },
     "execution_count": 51,
     "metadata": {},
     "output_type": "execute_result"
    }
   ],
   "source": [
    "arr1.size # To check total number of elements"
   ]
  },
  {
   "cell_type": "code",
   "execution_count": 52,
   "id": "959fdccf-d920-4c1e-b298-500ffc976b46",
   "metadata": {},
   "outputs": [
    {
     "data": {
      "text/plain": [
       "(20,)"
      ]
     },
     "execution_count": 52,
     "metadata": {},
     "output_type": "execute_result"
    }
   ],
   "source": [
    "arr1.shape # To check shape"
   ]
  },
  {
   "cell_type": "code",
   "execution_count": 53,
   "id": "96c50620-de81-47e4-b930-f8ccd4de739c",
   "metadata": {},
   "outputs": [
    {
     "data": {
      "text/plain": [
       "dtype('int32')"
      ]
     },
     "execution_count": 53,
     "metadata": {},
     "output_type": "execute_result"
    }
   ],
   "source": [
    "arr1.dtype # To check dtype of array"
   ]
  },
  {
   "cell_type": "markdown",
   "id": "ae38239f-aa00-4944-82c2-af4452cbad17",
   "metadata": {},
   "source": [
    "Array Indexing"
   ]
  },
  {
   "cell_type": "code",
   "execution_count": 54,
   "id": "15fb4d6a-279a-4691-9887-0a7eb9d923c3",
   "metadata": {},
   "outputs": [
    {
     "data": {
      "text/plain": [
       "array([19, 18,  7, 36, 30, 11,  3,  1,  3, 27], dtype=int32)"
      ]
     },
     "execution_count": 54,
     "metadata": {},
     "output_type": "execute_result"
    }
   ],
   "source": [
    "arr=np.random.randint(0,40,10)\n",
    "arr"
   ]
  },
  {
   "cell_type": "code",
   "execution_count": 55,
   "id": "b5bbc4be-cef9-48c4-ac94-1989cdf95ae0",
   "metadata": {},
   "outputs": [
    {
     "data": {
      "text/plain": [
       "array([19, 18,  7, 36], dtype=int32)"
      ]
     },
     "execution_count": 55,
     "metadata": {},
     "output_type": "execute_result"
    }
   ],
   "source": [
    "arr[:4]"
   ]
  },
  {
   "cell_type": "code",
   "execution_count": 56,
   "id": "8eb7a251-6c4c-4614-a00c-75447274d2a6",
   "metadata": {},
   "outputs": [
    {
     "data": {
      "text/plain": [
       "np.int32(11)"
      ]
     },
     "execution_count": 56,
     "metadata": {},
     "output_type": "execute_result"
    }
   ],
   "source": [
    "arr[-5]"
   ]
  },
  {
   "cell_type": "code",
   "execution_count": 57,
   "id": "4806adb6-92f8-45ad-9f9c-72498b336632",
   "metadata": {},
   "outputs": [],
   "source": [
    "arr[3]=10"
   ]
  },
  {
   "cell_type": "code",
   "execution_count": 58,
   "id": "b701c336-4546-4810-8184-a763027a2083",
   "metadata": {},
   "outputs": [
    {
     "data": {
      "text/plain": [
       "array([19, 18,  7, 10, 30, 11,  3,  1,  3, 27], dtype=int32)"
      ]
     },
     "execution_count": 58,
     "metadata": {},
     "output_type": "execute_result"
    }
   ],
   "source": [
    "arr"
   ]
  },
  {
   "cell_type": "code",
   "execution_count": 59,
   "id": "2261d4a4-d4a3-435e-901b-2fbd4d6098a0",
   "metadata": {},
   "outputs": [
    {
     "data": {
      "text/plain": [
       "array([19, 18,  9, 10, 30, 11,  3,  1,  3, 27], dtype=int32)"
      ]
     },
     "execution_count": 59,
     "metadata": {},
     "output_type": "execute_result"
    }
   ],
   "source": [
    "arr[2]=9\n",
    "arr"
   ]
  },
  {
   "cell_type": "markdown",
   "id": "612c897e-0e56-424d-b6b4-05ac997cce66",
   "metadata": {},
   "source": [
    "# Numpy Assigments"
   ]
  },
  {
   "cell_type": "code",
   "execution_count": 60,
   "id": "25b14a8e-242c-40dd-82c9-1aa994583fbf",
   "metadata": {},
   "outputs": [
    {
     "data": {
      "text/plain": [
       "array([1, 2, 3])"
      ]
     },
     "execution_count": 60,
     "metadata": {},
     "output_type": "execute_result"
    }
   ],
   "source": [
    "# Q1\n",
    "a=np.array([1,2,3])\n",
    "a"
   ]
  },
  {
   "cell_type": "code",
   "execution_count": 61,
   "id": "58b84e16-237c-40e9-920d-39ccbe74e123",
   "metadata": {},
   "outputs": [
    {
     "data": {
      "text/plain": [
       "array([[2, 6],\n",
       "       [8, 1]], dtype=int32)"
      ]
     },
     "execution_count": 61,
     "metadata": {},
     "output_type": "execute_result"
    }
   ],
   "source": [
    "b=np.random.randint(1,10,(2,2))\n",
    "b"
   ]
  },
  {
   "cell_type": "code",
   "execution_count": 62,
   "id": "2df0ab52-c8c2-4cf1-947a-0414e62788b7",
   "metadata": {},
   "outputs": [
    {
     "data": {
      "text/plain": [
       "array([[[ 0,  1,  2],\n",
       "        [ 3,  4,  5],\n",
       "        [ 6,  7,  8]],\n",
       "\n",
       "       [[ 9, 10, 11],\n",
       "        [12, 13, 14],\n",
       "        [15, 16, 17]],\n",
       "\n",
       "       [[18, 19, 20],\n",
       "        [21, 22, 23],\n",
       "        [24, 25, 26]]])"
      ]
     },
     "execution_count": 62,
     "metadata": {},
     "output_type": "execute_result"
    }
   ],
   "source": [
    "c=np.arange(0,27).reshape(3,3,3)\n",
    "c"
   ]
  },
  {
   "cell_type": "code",
   "execution_count": 63,
   "id": "73b3213c-1269-41bd-b4da-dead982c9a95",
   "metadata": {},
   "outputs": [
    {
     "data": {
      "text/plain": [
       "dtype('int64')"
      ]
     },
     "execution_count": 63,
     "metadata": {},
     "output_type": "execute_result"
    }
   ],
   "source": [
    "#Q2\n",
    "c.dtype"
   ]
  },
  {
   "cell_type": "code",
   "execution_count": 64,
   "id": "f567a634-a65c-4e50-bad2-53a360264a14",
   "metadata": {},
   "outputs": [
    {
     "data": {
      "text/plain": [
       "1"
      ]
     },
     "execution_count": 64,
     "metadata": {},
     "output_type": "execute_result"
    }
   ],
   "source": [
    "# Q3\n",
    "a.shape\n",
    "a.ndim"
   ]
  },
  {
   "cell_type": "code",
   "execution_count": 65,
   "id": "93fa47a1-7959-4435-a128-0dc7fb6eff6a",
   "metadata": {},
   "outputs": [
    {
     "data": {
      "text/plain": [
       "2"
      ]
     },
     "execution_count": 65,
     "metadata": {},
     "output_type": "execute_result"
    }
   ],
   "source": [
    "b.shape\n",
    "b.ndim"
   ]
  },
  {
   "cell_type": "code",
   "execution_count": 66,
   "id": "f678df46-771f-4ee6-9bf4-0cc34c58d1d9",
   "metadata": {},
   "outputs": [
    {
     "data": {
      "text/plain": [
       "3"
      ]
     },
     "execution_count": 66,
     "metadata": {},
     "output_type": "execute_result"
    }
   ],
   "source": [
    "c.shape\n",
    "c.ndim"
   ]
  },
  {
   "cell_type": "code",
   "execution_count": 67,
   "id": "06f6d0e9-ea47-46c0-81ba-bdaf17f1b829",
   "metadata": {},
   "outputs": [
    {
     "data": {
      "text/plain": [
       "array([0., 0., 0., 0., 0., 0., 0., 0., 0., 0., 0., 0.])"
      ]
     },
     "execution_count": 67,
     "metadata": {},
     "output_type": "execute_result"
    }
   ],
   "source": [
    "# Q4\n",
    "d = np.zeros(12)\n",
    "d"
   ]
  },
  {
   "cell_type": "code",
   "execution_count": 68,
   "id": "6b76bc45-45f4-4d01-b8dc-dfbda1e5deb6",
   "metadata": {},
   "outputs": [
    {
     "data": {
      "text/plain": [
       "array([[1., 1.],\n",
       "       [1., 1.]])"
      ]
     },
     "execution_count": 68,
     "metadata": {},
     "output_type": "execute_result"
    }
   ],
   "source": [
    "# Q5\n",
    "e = np.ones((2,2))\n",
    "e"
   ]
  },
  {
   "cell_type": "code",
   "execution_count": 69,
   "id": "3d4df970-c137-4465-833e-ba5c57c5093c",
   "metadata": {},
   "outputs": [
    {
     "data": {
      "text/plain": [
       "array([ 9, 15, 64, 28, 89, 93, 29,  8, 73,  0, 40, 36, 16, 11, 54, 88, 62,\n",
       "       33, 72, 78], dtype=int32)"
      ]
     },
     "execution_count": 69,
     "metadata": {},
     "output_type": "execute_result"
    }
   ],
   "source": [
    "# Q6\n",
    "np.random.seed(10)\n",
    "math = np.random.randint(0,100,20)\n",
    "math"
   ]
  },
  {
   "cell_type": "code",
   "execution_count": 70,
   "id": "d85c74d7-2110-499c-8094-bfa6863a9380",
   "metadata": {},
   "outputs": [
    {
     "data": {
      "text/plain": [
       "array([[6., 5., 5., 5.],\n",
       "       [5., 6., 5., 5.],\n",
       "       [5., 5., 6., 5.],\n",
       "       [5., 5., 5., 6.]])"
      ]
     },
     "execution_count": 70,
     "metadata": {},
     "output_type": "execute_result"
    }
   ],
   "source": [
    "# Q12\n",
    "np.eye(4,4)+5"
   ]
  },
  {
   "cell_type": "code",
   "execution_count": 71,
   "id": "2e0198ae-617b-4887-9a70-224752e8722c",
   "metadata": {},
   "outputs": [],
   "source": [
    "# Q13\n",
    "#np.arange?"
   ]
  },
  {
   "cell_type": "code",
   "execution_count": 72,
   "id": "6da2c7c0-32bc-4f81-b133-88621e19bace",
   "metadata": {},
   "outputs": [
    {
     "data": {
      "text/plain": [
       "array([[ 0,  1,  2,  3,  4],\n",
       "       [ 5,  6,  7,  8,  9],\n",
       "       [10, 11, 12, 13, 14],\n",
       "       [15, 16, 17, 18, 19],\n",
       "       [20, 21, 22, 23, 24]])"
      ]
     },
     "execution_count": 72,
     "metadata": {},
     "output_type": "execute_result"
    }
   ],
   "source": [
    "# Q18\n",
    "g=np.arange(0,25).reshape(5,5)\n",
    "g"
   ]
  },
  {
   "cell_type": "markdown",
   "id": "c68929f1-2bdd-4d30-bb94-5a7c51057bb4",
   "metadata": {
    "jp-MarkdownHeadingCollapsed": true
   },
   "source": [
    "# Indexing"
   ]
  },
  {
   "cell_type": "code",
   "execution_count": 73,
   "id": "d4caf24c-001a-4c30-a22f-7b77629f2f40",
   "metadata": {},
   "outputs": [
    {
     "data": {
      "text/plain": [
       "[1, 2, 3, 4, 5, 6]"
      ]
     },
     "execution_count": 73,
     "metadata": {},
     "output_type": "execute_result"
    }
   ],
   "source": [
    "arr=[1,2,3,4,5,6]\n",
    "arr"
   ]
  },
  {
   "cell_type": "code",
   "execution_count": 74,
   "id": "d2456907-b6ec-42e5-8143-4e6eb19a5443",
   "metadata": {},
   "outputs": [
    {
     "data": {
      "text/plain": [
       "[1, 2, 3]"
      ]
     },
     "execution_count": 74,
     "metadata": {},
     "output_type": "execute_result"
    }
   ],
   "source": [
    "arr[:3]"
   ]
  },
  {
   "cell_type": "code",
   "execution_count": 75,
   "id": "cca1e84b-049b-48b2-a403-32018793d1b6",
   "metadata": {},
   "outputs": [
    {
     "data": {
      "text/plain": [
       "[1, 3, 5]"
      ]
     },
     "execution_count": 75,
     "metadata": {},
     "output_type": "execute_result"
    }
   ],
   "source": [
    "arr[::2]"
   ]
  },
  {
   "cell_type": "markdown",
   "id": "8e767467-9e91-4f66-80f1-35d13394fa48",
   "metadata": {
    "jp-MarkdownHeadingCollapsed": true
   },
   "source": [
    "# To reverse the array in order"
   ]
  },
  {
   "cell_type": "code",
   "execution_count": 76,
   "id": "8439ec98-90a9-411b-bb81-4248ab3342f5",
   "metadata": {},
   "outputs": [
    {
     "data": {
      "text/plain": [
       "[6, 5, 4, 3, 2, 1]"
      ]
     },
     "execution_count": 76,
     "metadata": {},
     "output_type": "execute_result"
    }
   ],
   "source": [
    "arr[::-1]"
   ]
  },
  {
   "cell_type": "code",
   "execution_count": 77,
   "id": "c118624e-8b9c-494e-b1c7-83520fd8f799",
   "metadata": {},
   "outputs": [
    {
     "data": {
      "text/plain": [
       "array([[49, 51, 54, 77, 69],\n",
       "       [13, 25, 13, 92, 86],\n",
       "       [30, 30, 89, 12, 65],\n",
       "       [31, 57, 36, 27, 18],\n",
       "       [93, 77, 22, 23, 94]], dtype=int32)"
      ]
     },
     "execution_count": 77,
     "metadata": {},
     "output_type": "execute_result"
    }
   ],
   "source": [
    "arr2 = np.random.randint(0,100,(5,5))\n",
    "arr2"
   ]
  },
  {
   "cell_type": "code",
   "execution_count": 78,
   "id": "8f80f420-3540-47a9-972b-c46203e047d7",
   "metadata": {},
   "outputs": [
    {
     "data": {
      "text/plain": [
       "array([[51, 54],\n",
       "       [25, 13],\n",
       "       [30, 89]], dtype=int32)"
      ]
     },
     "execution_count": 78,
     "metadata": {},
     "output_type": "execute_result"
    }
   ],
   "source": [
    "arr2[0:3,1:3]"
   ]
  },
  {
   "cell_type": "code",
   "execution_count": 79,
   "id": "3b1b2ac3-3a9f-48bb-856d-5c2ad90fc342",
   "metadata": {},
   "outputs": [
    {
     "data": {
      "text/plain": [
       "array([[30, 89],\n",
       "       [57, 36]], dtype=int32)"
      ]
     },
     "execution_count": 79,
     "metadata": {},
     "output_type": "execute_result"
    }
   ],
   "source": [
    "arr2[2:4,1:3]"
   ]
  },
  {
   "cell_type": "code",
   "execution_count": 118,
   "id": "1077b503-24ea-48a0-972f-634b1322b40c",
   "metadata": {},
   "outputs": [
    {
     "data": {
      "text/plain": [
       "array([[1., 0., 1., 0., 1., 0., 1., 0.],\n",
       "       [0., 1., 0., 1., 0., 1., 0., 1.],\n",
       "       [1., 0., 1., 0., 1., 0., 1., 0.],\n",
       "       [0., 1., 0., 1., 0., 1., 0., 1.],\n",
       "       [1., 0., 1., 0., 1., 0., 1., 0.],\n",
       "       [0., 1., 0., 1., 0., 1., 0., 1.],\n",
       "       [1., 0., 1., 0., 1., 0., 1., 0.],\n",
       "       [0., 1., 0., 1., 0., 1., 0., 1.]])"
      ]
     },
     "execution_count": 118,
     "metadata": {},
     "output_type": "execute_result"
    }
   ],
   "source": [
    "arr4 = np.zeros((8,8))\n",
    "arr4[::2,::2]=1\n",
    "arr4[1::2,1::2]=1\n",
    "arr4"
   ]
  },
  {
   "cell_type": "markdown",
   "id": "74db613e-4fa3-48f8-bc59-d06c19d125c3",
   "metadata": {
    "jp-MarkdownHeadingCollapsed": true
   },
   "source": [
    "# Shallow copy and Deep copy"
   ]
  },
  {
   "cell_type": "markdown",
   "id": "9bc4e6eb-293b-4977-afc0-984800c7f69a",
   "metadata": {
    "jp-MarkdownHeadingCollapsed": true
   },
   "source": [
    "# Shallow copy"
   ]
  },
  {
   "cell_type": "code",
   "execution_count": 82,
   "id": "7ee86490-e44a-49f3-97cb-eab86b561c5d",
   "metadata": {},
   "outputs": [
    {
     "data": {
      "text/plain": [
       "array([[95, 11, 81, 70, 63],\n",
       "       [87, 75,  9, 77, 40],\n",
       "       [ 4, 63, 40, 60, 92],\n",
       "       [64,  5, 12, 93, 40],\n",
       "       [49, 83,  8, 29, 59]], dtype=int32)"
      ]
     },
     "execution_count": 82,
     "metadata": {},
     "output_type": "execute_result"
    }
   ],
   "source": [
    "np.random.seed(101)\n",
    "arr5 = np.random.randint(0,100,(5,5))\n",
    "arr5"
   ]
  },
  {
   "cell_type": "code",
   "execution_count": 83,
   "id": "59ae9f89-174a-40f8-99ab-d77ffea09d49",
   "metadata": {},
   "outputs": [
    {
     "data": {
      "text/plain": [
       "array([[ 4, 63, 40],\n",
       "       [64,  5, 12],\n",
       "       [49, 83,  8]], dtype=int32)"
      ]
     },
     "execution_count": 83,
     "metadata": {},
     "output_type": "execute_result"
    }
   ],
   "source": [
    "arr6 = arr5[2:5,0:3]\n",
    "arr6"
   ]
  },
  {
   "cell_type": "code",
   "execution_count": 84,
   "id": "0b17c636-eb16-4c2f-9489-c530f032528b",
   "metadata": {},
   "outputs": [
    {
     "data": {
      "text/plain": [
       "array([[ 4, 63, 40],\n",
       "       [64,  5, 12],\n",
       "       [49, 83, 19]], dtype=int32)"
      ]
     },
     "execution_count": 84,
     "metadata": {},
     "output_type": "execute_result"
    }
   ],
   "source": [
    "arr6[2,2]=19\n",
    "arr6"
   ]
  },
  {
   "cell_type": "code",
   "execution_count": 85,
   "id": "9df46b8b-e728-4047-82a4-11565c5eb3a0",
   "metadata": {},
   "outputs": [
    {
     "data": {
      "text/plain": [
       "array([[95, 11, 81, 70, 63],\n",
       "       [87, 75,  9, 77, 40],\n",
       "       [ 4, 63, 40, 60, 92],\n",
       "       [64,  5, 12, 93, 40],\n",
       "       [49, 83, 19, 29, 59]], dtype=int32)"
      ]
     },
     "execution_count": 85,
     "metadata": {},
     "output_type": "execute_result"
    }
   ],
   "source": [
    "arr5 # here in main matrix number is also changed when it is changed in sub part \"arr6\""
   ]
  },
  {
   "cell_type": "markdown",
   "id": "75089180-7db7-42bc-9993-410868ad57d6",
   "metadata": {},
   "source": [
    "# Deep copy"
   ]
  },
  {
   "cell_type": "code",
   "execution_count": 86,
   "id": "6da7486b-fdfe-40d8-a715-5ca6ff987011",
   "metadata": {},
   "outputs": [
    {
     "data": {
      "text/plain": [
       "array([[40, 60, 92],\n",
       "       [12, 93, 40],\n",
       "       [19, 29, 59]], dtype=int32)"
      ]
     },
     "execution_count": 86,
     "metadata": {},
     "output_type": "execute_result"
    }
   ],
   "source": [
    "arr7=arr5[2:5,2:5].copy()\n",
    "arr7"
   ]
  },
  {
   "cell_type": "code",
   "execution_count": 87,
   "id": "043ebc1a-f557-44c6-83b7-4ab42d1ec606",
   "metadata": {},
   "outputs": [
    {
     "data": {
      "text/plain": [
       "array([[40, 60, 92],\n",
       "       [12, 93, 40],\n",
       "       [19, 40, 59]], dtype=int32)"
      ]
     },
     "execution_count": 87,
     "metadata": {},
     "output_type": "execute_result"
    }
   ],
   "source": [
    "arr7[2,1]=40\n",
    "arr7"
   ]
  },
  {
   "cell_type": "code",
   "execution_count": 88,
   "id": "1af863e3-f928-4e21-a66c-4904fe471d56",
   "metadata": {},
   "outputs": [
    {
     "data": {
      "text/plain": [
       "array([[40, 60, 92],\n",
       "       [12, 93, 40],\n",
       "       [19, 40, 59]], dtype=int32)"
      ]
     },
     "execution_count": 88,
     "metadata": {},
     "output_type": "execute_result"
    }
   ],
   "source": [
    "arr7"
   ]
  },
  {
   "cell_type": "code",
   "execution_count": 89,
   "id": "1e23402d-9c23-4cfd-8302-383eac023f90",
   "metadata": {},
   "outputs": [
    {
     "data": {
      "text/plain": [
       "array([[95, 11, 81, 70, 63],\n",
       "       [87, 75,  9, 77, 40],\n",
       "       [ 4, 63, 40, 60, 92],\n",
       "       [64,  5, 12, 93, 40],\n",
       "       [49, 83, 19, 29, 59]], dtype=int32)"
      ]
     },
     "execution_count": 89,
     "metadata": {},
     "output_type": "execute_result"
    }
   ],
   "source": [
    "arr5"
   ]
  },
  {
   "cell_type": "code",
   "execution_count": 90,
   "id": "b97901b5-b2d6-401d-835d-8dea67b3a553",
   "metadata": {},
   "outputs": [
    {
     "data": {
      "text/plain": [
       "array([[0],\n",
       "       [1],\n",
       "       [2]])"
      ]
     },
     "execution_count": 90,
     "metadata": {},
     "output_type": "execute_result"
    }
   ],
   "source": [
    "arrr = np.arange(0,3) # making 1D array horizontaly\n",
    "arrr.reshape(3,1)# makin same array verticaly"
   ]
  },
  {
   "cell_type": "code",
   "execution_count": 91,
   "id": "bb6d8e3a-f279-4e06-abd4-1827f0076143",
   "metadata": {},
   "outputs": [
    {
     "data": {
      "text/plain": [
       "array([[ 1,  2,  3,  4],\n",
       "       [ 5,  6,  7,  8],\n",
       "       [ 9, 10, 11, 12],\n",
       "       [13, 14, 15, 16]])"
      ]
     },
     "execution_count": 91,
     "metadata": {},
     "output_type": "execute_result"
    }
   ],
   "source": [
    "arrrr=np.arange(1,17) # making an array\n",
    "b = arrrr.reshape(4,4) # making in a 2D array\n",
    "b"
   ]
  },
  {
   "cell_type": "code",
   "execution_count": 92,
   "id": "36b201d9-35bb-498b-8822-186901884f1c",
   "metadata": {},
   "outputs": [
    {
     "data": {
      "text/plain": [
       "array([[ 1,  2,  3,  4,  5,  6,  7,  8,  9, 10, 11, 12, 13, 14, 15, 16]])"
      ]
     },
     "execution_count": 92,
     "metadata": {},
     "output_type": "execute_result"
    }
   ],
   "source": [
    "b.reshape(1,16) #then again reshape in 1D array"
   ]
  },
  {
   "cell_type": "code",
   "execution_count": 93,
   "id": "c80f8ee1-98b0-4b5d-8a32-02cf6d9e1930",
   "metadata": {},
   "outputs": [
    {
     "data": {
      "text/plain": [
       "array([ 1,  5,  9, 13,  2,  6, 10, 14,  3,  7, 11, 15,  4,  8, 12, 16])"
      ]
     },
     "execution_count": 93,
     "metadata": {},
     "output_type": "execute_result"
    }
   ],
   "source": [
    "# returning ravel array\n",
    "#np.ravel?\n",
    "np.ravel(b,order = \"F\")"
   ]
  },
  {
   "cell_type": "code",
   "execution_count": 94,
   "id": "10bfa0c1-cde0-4d8e-934c-2065adfa2753",
   "metadata": {},
   "outputs": [
    {
     "name": "stdout",
     "output_type": "stream",
     "text": [
      "Object `np.flatten` not found.\n"
     ]
    }
   ],
   "source": [
    "# returning Flatten\n",
    "np.flatten?"
   ]
  },
  {
   "cell_type": "code",
   "execution_count": 95,
   "id": "b7a3ed95-4927-497a-8686-a4e303f97643",
   "metadata": {},
   "outputs": [
    {
     "data": {
      "text/plain": [
       "array([ 1,  2,  3,  4,  5,  6,  7,  8,  9, 10, 11, 12, 13, 14, 15, 16])"
      ]
     },
     "execution_count": 95,
     "metadata": {},
     "output_type": "execute_result"
    }
   ],
   "source": [
    "c = b.flatten()\n",
    "c"
   ]
  },
  {
   "cell_type": "code",
   "execution_count": 96,
   "id": "6eca54b5-fe95-4e2c-bb22-394d257b6afe",
   "metadata": {},
   "outputs": [
    {
     "data": {
      "text/plain": [
       "array([[ 1],\n",
       "       [ 2],\n",
       "       [ 3],\n",
       "       [ 4],\n",
       "       [ 5],\n",
       "       [ 6],\n",
       "       [ 7],\n",
       "       [ 8],\n",
       "       [ 9],\n",
       "       [10],\n",
       "       [11],\n",
       "       [12],\n",
       "       [13],\n",
       "       [14],\n",
       "       [15],\n",
       "       [16]])"
      ]
     },
     "execution_count": 96,
     "metadata": {},
     "output_type": "execute_result"
    }
   ],
   "source": [
    "c[:,np.newaxis]"
   ]
  },
  {
   "cell_type": "markdown",
   "id": "4a01c6ba-f1a9-495b-a26e-13b72ca27a95",
   "metadata": {},
   "source": [
    "# Stacks"
   ]
  },
  {
   "cell_type": "code",
   "execution_count": 154,
   "id": "4aefdcb4-d1ec-48c7-90bc-c1a09644e61f",
   "metadata": {},
   "outputs": [
    {
     "data": {
      "text/plain": [
       "\u001b[1;31mSignature:\u001b[0m       \u001b[0mnp\u001b[0m\u001b[1;33m.\u001b[0m\u001b[0mhstack\u001b[0m\u001b[1;33m(\u001b[0m\u001b[0mtup\u001b[0m\u001b[1;33m,\u001b[0m \u001b[1;33m*\u001b[0m\u001b[1;33m,\u001b[0m \u001b[0mdtype\u001b[0m\u001b[1;33m=\u001b[0m\u001b[1;32mNone\u001b[0m\u001b[1;33m,\u001b[0m \u001b[0mcasting\u001b[0m\u001b[1;33m=\u001b[0m\u001b[1;34m'same_kind'\u001b[0m\u001b[1;33m)\u001b[0m\u001b[1;33m\u001b[0m\u001b[1;33m\u001b[0m\u001b[0m\n",
       "\u001b[1;31mCall signature:\u001b[0m  \u001b[0mnp\u001b[0m\u001b[1;33m.\u001b[0m\u001b[0mhstack\u001b[0m\u001b[1;33m(\u001b[0m\u001b[1;33m*\u001b[0m\u001b[0margs\u001b[0m\u001b[1;33m,\u001b[0m \u001b[1;33m**\u001b[0m\u001b[0mkwargs\u001b[0m\u001b[1;33m)\u001b[0m\u001b[1;33m\u001b[0m\u001b[1;33m\u001b[0m\u001b[0m\n",
       "\u001b[1;31mType:\u001b[0m            _ArrayFunctionDispatcher\n",
       "\u001b[1;31mString form:\u001b[0m     <function hstack at 0x00000161328F5620>\n",
       "\u001b[1;31mFile:\u001b[0m            c:\\users\\ayush\\appdata\\local\\programs\\python\\python312\\lib\\site-packages\\numpy\\_core\\shape_base.py\n",
       "\u001b[1;31mDocstring:\u001b[0m      \n",
       "Stack arrays in sequence horizontally (column wise).\n",
       "\n",
       "This is equivalent to concatenation along the second axis, except for 1-D\n",
       "arrays where it concatenates along the first axis. Rebuilds arrays divided\n",
       "by `hsplit`.\n",
       "\n",
       "This function makes most sense for arrays with up to 3 dimensions. For\n",
       "instance, for pixel-data with a height (first axis), width (second axis),\n",
       "and r/g/b channels (third axis). The functions `concatenate`, `stack` and\n",
       "`block` provide more general stacking and concatenation operations.\n",
       "\n",
       "Parameters\n",
       "----------\n",
       "tup : sequence of ndarrays\n",
       "    The arrays must have the same shape along all but the second axis,\n",
       "    except 1-D arrays which can be any length.\n",
       "\n",
       "dtype : str or dtype\n",
       "    If provided, the destination array will have this dtype. Cannot be\n",
       "    provided together with `out`.\n",
       "\n",
       "    .. versionadded:: 1.24\n",
       "\n",
       "casting : {'no', 'equiv', 'safe', 'same_kind', 'unsafe'}, optional\n",
       "    Controls what kind of data casting may occur. Defaults to 'same_kind'.\n",
       "\n",
       "    .. versionadded:: 1.24\n",
       "\n",
       "Returns\n",
       "-------\n",
       "stacked : ndarray\n",
       "    The array formed by stacking the given arrays.\n",
       "\n",
       "See Also\n",
       "--------\n",
       "concatenate : Join a sequence of arrays along an existing axis.\n",
       "stack : Join a sequence of arrays along a new axis.\n",
       "block : Assemble an nd-array from nested lists of blocks.\n",
       "vstack : Stack arrays in sequence vertically (row wise).\n",
       "dstack : Stack arrays in sequence depth wise (along third axis).\n",
       "column_stack : Stack 1-D arrays as columns into a 2-D array.\n",
       "hsplit : Split an array into multiple sub-arrays \n",
       "         horizontally (column-wise).\n",
       "\n",
       "Examples\n",
       "--------\n",
       ">>> a = np.array((1,2,3))\n",
       ">>> b = np.array((4,5,6))\n",
       ">>> np.hstack((a,b))\n",
       "array([1, 2, 3, 4, 5, 6])\n",
       ">>> a = np.array([[1],[2],[3]])\n",
       ">>> b = np.array([[4],[5],[6]])\n",
       ">>> np.hstack((a,b))\n",
       "array([[1, 4],\n",
       "       [2, 5],\n",
       "       [3, 6]])\n",
       "\u001b[1;31mClass docstring:\u001b[0m\n",
       "Class to wrap functions with checks for __array_function__ overrides.\n",
       "\n",
       "All arguments are required, and can only be passed by position.\n",
       "\n",
       "Parameters\n",
       "----------\n",
       "dispatcher : function or None\n",
       "    The dispatcher function that returns a single sequence-like object\n",
       "    of all arguments relevant.  It must have the same signature (except\n",
       "    the default values) as the actual implementation.\n",
       "    If ``None``, this is a ``like=`` dispatcher and the\n",
       "    ``_ArrayFunctionDispatcher`` must be called with ``like`` as the\n",
       "    first (additional and positional) argument.\n",
       "implementation : function\n",
       "    Function that implements the operation on NumPy arrays without\n",
       "    overrides.  Arguments passed calling the ``_ArrayFunctionDispatcher``\n",
       "    will be forwarded to this (and the ``dispatcher``) as if using\n",
       "    ``*args, **kwargs``.\n",
       "\n",
       "Attributes\n",
       "----------\n",
       "_implementation : function\n",
       "    The original implementation passed in."
      ]
     },
     "metadata": {},
     "output_type": "display_data"
    }
   ],
   "source": [
    "np.hstack?"
   ]
  },
  {
   "cell_type": "code",
   "execution_count": 136,
   "id": "6a8da1eb-962b-4b23-85fd-36a54b3824e7",
   "metadata": {},
   "outputs": [
    {
     "data": {
      "text/plain": [
       "array([[1, 2, 3],\n",
       "       [4, 5, 6]])"
      ]
     },
     "execution_count": 136,
     "metadata": {},
     "output_type": "execute_result"
    }
   ],
   "source": [
    "arr = np.array([[1,2,3],[4,5,6]])\n",
    "arr"
   ]
  },
  {
   "cell_type": "code",
   "execution_count": 148,
   "id": "0ec19a79-5659-4cca-af21-ed5059de3366",
   "metadata": {},
   "outputs": [
    {
     "data": {
      "text/plain": [
       "array([7, 8, 9])"
      ]
     },
     "execution_count": 148,
     "metadata": {},
     "output_type": "execute_result"
    }
   ],
   "source": [
    "arrr = np.arange(7,10)\n",
    "arrr"
   ]
  },
  {
   "cell_type": "code",
   "execution_count": 149,
   "id": "d780a6b4-1a0e-4e9d-899d-93d42daa781f",
   "metadata": {},
   "outputs": [
    {
     "data": {
      "text/plain": [
       "array([[7],\n",
       "       [8],\n",
       "       [9]])"
      ]
     },
     "execution_count": 149,
     "metadata": {},
     "output_type": "execute_result"
    }
   ],
   "source": [
    "b=arrr[:,np.newaxis]\n",
    "b"
   ]
  },
  {
   "cell_type": "code",
   "execution_count": 163,
   "id": "7fb4e177-7c66-48b3-b61e-700f087fed10",
   "metadata": {},
   "outputs": [
    {
     "ename": "ValueError",
     "evalue": "all the input array dimensions except for the concatenation axis must match exactly, but along dimension 0, the array at index 0 has size 2 and the array at index 1 has size 3",
     "output_type": "error",
     "traceback": [
      "\u001b[1;31m---------------------------------------------------------------------------\u001b[0m",
      "\u001b[1;31mValueError\u001b[0m                                Traceback (most recent call last)",
      "Cell \u001b[1;32mIn[163], line 1\u001b[0m\n\u001b[1;32m----> 1\u001b[0m \u001b[43mnp\u001b[49m\u001b[38;5;241;43m.\u001b[39;49m\u001b[43mhstack\u001b[49m\u001b[43m(\u001b[49m\u001b[43m(\u001b[49m\u001b[43marr\u001b[49m\u001b[43m,\u001b[49m\u001b[43mb\u001b[49m\u001b[43m,\u001b[49m\u001b[38;5;241;43m1\u001b[39;49m\u001b[43m)\u001b[49m\u001b[43m)\u001b[49m\n",
      "File \u001b[1;32m~\\AppData\\Local\\Programs\\Python\\Python312\\Lib\\site-packages\\numpy\\_core\\shape_base.py:358\u001b[0m, in \u001b[0;36mhstack\u001b[1;34m(tup, dtype, casting)\u001b[0m\n\u001b[0;32m    356\u001b[0m     \u001b[38;5;28;01mreturn\u001b[39;00m _nx\u001b[38;5;241m.\u001b[39mconcatenate(arrs, \u001b[38;5;241m0\u001b[39m, dtype\u001b[38;5;241m=\u001b[39mdtype, casting\u001b[38;5;241m=\u001b[39mcasting)\n\u001b[0;32m    357\u001b[0m \u001b[38;5;28;01melse\u001b[39;00m:\n\u001b[1;32m--> 358\u001b[0m     \u001b[38;5;28;01mreturn\u001b[39;00m \u001b[43m_nx\u001b[49m\u001b[38;5;241;43m.\u001b[39;49m\u001b[43mconcatenate\u001b[49m\u001b[43m(\u001b[49m\u001b[43marrs\u001b[49m\u001b[43m,\u001b[49m\u001b[43m \u001b[49m\u001b[38;5;241;43m1\u001b[39;49m\u001b[43m,\u001b[49m\u001b[43m \u001b[49m\u001b[43mdtype\u001b[49m\u001b[38;5;241;43m=\u001b[39;49m\u001b[43mdtype\u001b[49m\u001b[43m,\u001b[49m\u001b[43m \u001b[49m\u001b[43mcasting\u001b[49m\u001b[38;5;241;43m=\u001b[39;49m\u001b[43mcasting\u001b[49m\u001b[43m)\u001b[49m\n",
      "\u001b[1;31mValueError\u001b[0m: all the input array dimensions except for the concatenation axis must match exactly, but along dimension 0, the array at index 0 has size 2 and the array at index 1 has size 3"
     ]
    }
   ],
   "source": [
    "np.hstack((arr,b,1))"
   ]
  },
  {
   "cell_type": "code",
   "execution_count": 146,
   "id": "29ddf648-82ca-4366-9031-53db1a9a88d3",
   "metadata": {},
   "outputs": [
    {
     "data": {
      "text/plain": [
       "\u001b[1;31mSignature:\u001b[0m       \u001b[0mnp\u001b[0m\u001b[1;33m.\u001b[0m\u001b[0mvsplit\u001b[0m\u001b[1;33m(\u001b[0m\u001b[0mary\u001b[0m\u001b[1;33m,\u001b[0m \u001b[0mindices_or_sections\u001b[0m\u001b[1;33m)\u001b[0m\u001b[1;33m\u001b[0m\u001b[1;33m\u001b[0m\u001b[0m\n",
       "\u001b[1;31mCall signature:\u001b[0m  \u001b[0mnp\u001b[0m\u001b[1;33m.\u001b[0m\u001b[0mvsplit\u001b[0m\u001b[1;33m(\u001b[0m\u001b[1;33m*\u001b[0m\u001b[0margs\u001b[0m\u001b[1;33m,\u001b[0m \u001b[1;33m**\u001b[0m\u001b[0mkwargs\u001b[0m\u001b[1;33m)\u001b[0m\u001b[1;33m\u001b[0m\u001b[1;33m\u001b[0m\u001b[0m\n",
       "\u001b[1;31mType:\u001b[0m            _ArrayFunctionDispatcher\n",
       "\u001b[1;31mString form:\u001b[0m     <function vsplit at 0x0000016132A52D40>\n",
       "\u001b[1;31mFile:\u001b[0m            c:\\users\\ayush\\appdata\\local\\programs\\python\\python312\\lib\\site-packages\\numpy\\lib\\_shape_base_impl.py\n",
       "\u001b[1;31mDocstring:\u001b[0m      \n",
       "Split an array into multiple sub-arrays vertically (row-wise).\n",
       "\n",
       "Please refer to the ``split`` documentation.  ``vsplit`` is equivalent\n",
       "to ``split`` with `axis=0` (default), the array is always split along the\n",
       "first axis regardless of the array dimension.\n",
       "\n",
       "See Also\n",
       "--------\n",
       "split : Split an array into multiple sub-arrays of equal size.\n",
       "\n",
       "Examples\n",
       "--------\n",
       ">>> x = np.arange(16.0).reshape(4, 4)\n",
       ">>> x\n",
       "array([[ 0.,   1.,   2.,   3.],\n",
       "       [ 4.,   5.,   6.,   7.],\n",
       "       [ 8.,   9.,  10.,  11.],\n",
       "       [12.,  13.,  14.,  15.]])\n",
       ">>> np.vsplit(x, 2)\n",
       "[array([[0., 1., 2., 3.],\n",
       "        [4., 5., 6., 7.]]),\n",
       " array([[ 8.,  9., 10., 11.],\n",
       "        [12., 13., 14., 15.]])]\n",
       ">>> np.vsplit(x, np.array([3, 6]))\n",
       "[array([[ 0.,  1.,  2.,  3.],\n",
       "        [ 4.,  5.,  6.,  7.],\n",
       "        [ 8.,  9., 10., 11.]]),\n",
       " array([[12., 13., 14., 15.]]),\n",
       " array([], shape=(0, 4), dtype=float64)]\n",
       "\n",
       "With a higher dimensional array the split is still along the first axis.\n",
       "\n",
       ">>> x = np.arange(8.0).reshape(2, 2, 2)\n",
       ">>> x\n",
       "array([[[0.,  1.],\n",
       "        [2.,  3.]],\n",
       "       [[4.,  5.],\n",
       "        [6.,  7.]]])\n",
       ">>> np.vsplit(x, 2)\n",
       "[array([[[0., 1.],\n",
       "         [2., 3.]]]),\n",
       " array([[[4., 5.],\n",
       "         [6., 7.]]])]\n",
       "\u001b[1;31mClass docstring:\u001b[0m\n",
       "Class to wrap functions with checks for __array_function__ overrides.\n",
       "\n",
       "All arguments are required, and can only be passed by position.\n",
       "\n",
       "Parameters\n",
       "----------\n",
       "dispatcher : function or None\n",
       "    The dispatcher function that returns a single sequence-like object\n",
       "    of all arguments relevant.  It must have the same signature (except\n",
       "    the default values) as the actual implementation.\n",
       "    If ``None``, this is a ``like=`` dispatcher and the\n",
       "    ``_ArrayFunctionDispatcher`` must be called with ``like`` as the\n",
       "    first (additional and positional) argument.\n",
       "implementation : function\n",
       "    Function that implements the operation on NumPy arrays without\n",
       "    overrides.  Arguments passed calling the ``_ArrayFunctionDispatcher``\n",
       "    will be forwarded to this (and the ``dispatcher``) as if using\n",
       "    ``*args, **kwargs``.\n",
       "\n",
       "Attributes\n",
       "----------\n",
       "_implementation : function\n",
       "    The original implementation passed in."
      ]
     },
     "metadata": {},
     "output_type": "display_data"
    }
   ],
   "source": [
    "# split\n",
    "#np.split?\n",
    "#np.hsplit?\n",
    "np.vsplit?"
   ]
  },
  {
   "cell_type": "code",
   "execution_count": 159,
   "id": "9fb0717a-7d10-45e8-aded-f543d55f901c",
   "metadata": {},
   "outputs": [
    {
     "data": {
      "text/plain": [
       "array([1, 2, 3, 4, 5, 6])"
      ]
     },
     "execution_count": 159,
     "metadata": {},
     "output_type": "execute_result"
    }
   ],
   "source": [
    "a =np.array([1,2,3,4,5,6])\n",
    "a"
   ]
  },
  {
   "cell_type": "code",
   "execution_count": 161,
   "id": "b2060371-676d-4bd7-a1b1-aa96bd2e0b82",
   "metadata": {},
   "outputs": [
    {
     "data": {
      "text/plain": [
       "[array([1]), array([2, 3, 4]), array([5, 6]), array([], dtype=int64)]"
      ]
     },
     "execution_count": 161,
     "metadata": {},
     "output_type": "execute_result"
    }
   ],
   "source": [
    "np.split(a,[1,4,6])"
   ]
  },
  {
   "cell_type": "code",
   "execution_count": 166,
   "id": "1f1c47e2-6fc4-4743-9e13-ab668535422f",
   "metadata": {},
   "outputs": [
    {
     "data": {
      "text/plain": [
       "array([[ 0,  1,  2,  3],\n",
       "       [ 4,  5,  6,  7],\n",
       "       [ 8,  9, 10, 11],\n",
       "       [12, 13, 14, 15],\n",
       "       [16, 17, 18, 19]])"
      ]
     },
     "execution_count": 166,
     "metadata": {},
     "output_type": "execute_result"
    }
   ],
   "source": [
    "c = np.arange(0,20).reshape(5,4)\n",
    "c"
   ]
  },
  {
   "cell_type": "code",
   "execution_count": 170,
   "id": "d1c5fc84-7808-4309-a0c3-dc2359c4c908",
   "metadata": {},
   "outputs": [
    {
     "data": {
      "text/plain": [
       "[array([[0, 1, 2, 3],\n",
       "        [4, 5, 6, 7]]),\n",
       " array([[ 8,  9, 10, 11]]),\n",
       " array([[12, 13, 14, 15],\n",
       "        [16, 17, 18, 19]])]"
      ]
     },
     "execution_count": 170,
     "metadata": {},
     "output_type": "execute_result"
    }
   ],
   "source": [
    "np.vsplit(c,[2,3])"
   ]
  },
  {
   "cell_type": "markdown",
   "id": "73602f7b-20e2-4102-ad62-d65f72977a42",
   "metadata": {},
   "source": [
    "# Arguments"
   ]
  },
  {
   "cell_type": "code",
   "execution_count": 178,
   "id": "63affe4d-982d-4070-adec-e095da69929d",
   "metadata": {},
   "outputs": [
    {
     "data": {
      "text/plain": [
       "array([[ 0,  1,  2,  3],\n",
       "       [ 4,  5,  6,  7],\n",
       "       [ 8,  9, 10, 11],\n",
       "       [12, 13, 14, 15],\n",
       "       [16, 17, 18, 19]])"
      ]
     },
     "execution_count": 178,
     "metadata": {},
     "output_type": "execute_result"
    }
   ],
   "source": [
    "c = np.arange(0,20).reshape(5,4)\n",
    "c"
   ]
  },
  {
   "cell_type": "code",
   "execution_count": 172,
   "id": "4e7cc23f-7d9e-4260-b14a-78a949b4eecf",
   "metadata": {},
   "outputs": [
    {
     "data": {
      "text/plain": [
       "np.int64(0)"
      ]
     },
     "execution_count": 172,
     "metadata": {},
     "output_type": "execute_result"
    }
   ],
   "source": [
    "np.min(c)"
   ]
  },
  {
   "cell_type": "code",
   "execution_count": 175,
   "id": "3fe0403d-227c-4f1c-8e43-496a190579ae",
   "metadata": {},
   "outputs": [
    {
     "data": {
      "text/plain": [
       "array([ 6, 22, 38, 54, 70])"
      ]
     },
     "execution_count": 175,
     "metadata": {},
     "output_type": "execute_result"
    }
   ],
   "source": [
    "np.sum(c,axis = 1)"
   ]
  },
  {
   "cell_type": "code",
   "execution_count": 176,
   "id": "852e481d-003c-47fc-a18e-925072251c97",
   "metadata": {},
   "outputs": [
    {
     "data": {
      "text/plain": [
       "np.int64(0)"
      ]
     },
     "execution_count": 176,
     "metadata": {},
     "output_type": "execute_result"
    }
   ],
   "source": [
    "np.prod(c)"
   ]
  },
  {
   "cell_type": "code",
   "execution_count": 177,
   "id": "7abd390b-ef24-46fb-b69d-c98c60dcb3dd",
   "metadata": {},
   "outputs": [
    {
     "data": {
      "text/plain": [
       "np.int64(1)"
      ]
     },
     "execution_count": 177,
     "metadata": {},
     "output_type": "execute_result"
    }
   ],
   "source": [
    "g = -1\n",
    "np.abs(g)"
   ]
  },
  {
   "cell_type": "code",
   "execution_count": 180,
   "id": "4f0a0a9b-7f91-47ff-b0d8-6de17d3da788",
   "metadata": {},
   "outputs": [
    {
     "data": {
      "text/plain": [
       "np.int64(0)"
      ]
     },
     "execution_count": 180,
     "metadata": {},
     "output_type": "execute_result"
    }
   ],
   "source": [
    "np.argmin(c)"
   ]
  },
  {
   "cell_type": "code",
   "execution_count": 181,
   "id": "c159134d-e229-4187-8e41-9872c0f682e2",
   "metadata": {},
   "outputs": [
    {
     "data": {
      "text/plain": [
       "np.int64(19)"
      ]
     },
     "execution_count": 181,
     "metadata": {},
     "output_type": "execute_result"
    }
   ],
   "source": [
    "np.argmax(c)"
   ]
  },
  {
   "cell_type": "code",
   "execution_count": 182,
   "id": "3d83b21b-b701-4183-ba65-094f364b0816",
   "metadata": {},
   "outputs": [
    {
     "data": {
      "text/plain": [
       "np.float64(33.25)"
      ]
     },
     "execution_count": 182,
     "metadata": {},
     "output_type": "execute_result"
    }
   ],
   "source": [
    "np.var(c)"
   ]
  },
  {
   "cell_type": "code",
   "execution_count": null,
   "id": "f7e29fed-14ee-48a1-8da6-7497d243a9ee",
   "metadata": {},
   "outputs": [],
   "source": []
  }
 ],
 "metadata": {
  "kernelspec": {
   "display_name": "Python 3 (ipykernel)",
   "language": "python",
   "name": "python3"
  },
  "language_info": {
   "codemirror_mode": {
    "name": "ipython",
    "version": 3
   },
   "file_extension": ".py",
   "mimetype": "text/x-python",
   "name": "python",
   "nbconvert_exporter": "python",
   "pygments_lexer": "ipython3",
   "version": "3.12.3"
  }
 },
 "nbformat": 4,
 "nbformat_minor": 5
}
